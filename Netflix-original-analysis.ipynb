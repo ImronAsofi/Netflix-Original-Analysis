{
 "cells": [
  {
   "attachments": {},
   "cell_type": "markdown",
   "metadata": {},
   "source": [
    "## Latar Belakang"
   ]
  },
  {
   "attachments": {},
   "cell_type": "markdown",
   "metadata": {},
   "source": [
    "**Netflix baru-baru ini sangat berfokus pada konten Original karena sekarang memiliki studio TV dan filmnya sendiri. Fokus ini membantu perusahaan mengurangi ketergantungan pada studio luar dan mengambil kendali atas konten aslinya (Netflix, 2021).**\n",
    "\n",
    "Netflix adalah platform streaming yang populer yang menyediakan berbagai macam film, acara TV, dan konten video lainnya. Pelanggan Netflix dapat menonton konten favorit mereka dengan streaming langsung melalui internet pada perangkat seperti komputer, ponsel pintar, tablet, atau televisi cerdas. Netflix menawarkan berbagai genre termasuk drama, komedi, tindakan, animasi, dokumenter, dan banyak lagi. Platform ini juga menghasilkan konten asli yang dikenal sebagai \"Netflix Originals\", yang merupakan produksi eksklusif yang hanya tersedia di Netflix.\n",
    "\n",
    "Netflix Originals adalah istilah yang digunakan untuk mengacu pada konten yang diproduksi atau didistribusikan secara eksklusif oleh Netflix. Ini termasuk film, acara TV, seri dokumenter, komedi stand-up, dan konten lainnya yang diproduksi atau dibiayai oleh Netflix. Netflix Originals dapat berarti konten yang dikembangkan sepenuhnya oleh Netflix, serta konten yang diakuisisi dari studio atau produser independen dan ditayangkan secara eksklusif di platform Netflix.\n",
    "\n",
    "Netflix Originals telah menjadi bagian penting dari strategi konten Netflix, yang memungkinkan mereka menghasilkan konten eksklusif yang menarik bagi para pelanggan dan membedakan diri dari layanan streaming lainnya."
   ]
  },
  {
   "attachments": {},
   "cell_type": "markdown",
   "metadata": {},
   "source": [
    "## Pernyataan Masalah"
   ]
  },
  {
   "attachments": {},
   "cell_type": "markdown",
   "metadata": {},
   "source": [
    "Untuk menghasilkan konten original yang beragam dan menarik bagi para pelanggan, Netflix telah mengalokasikan anggaran yang signifikan. Karena untuk mengembangkan konten orisinal itu tergolong membutuhkan biaya yang sangat mahal.\n",
    "\n",
    "Karena skala produksinya yang lebih kecil, _short film_ biasanya memiliki anggaran yang lebih rendah dan tim produksi yang lebih kecil dibandingkan dengan feature film yang umumnya melibatkan sutradara, produser, pemeran, dan kru produksi yang lebih besar.\n",
    "\n",
    "Sebagai seorang data analyst tujuan utamanya adalah membantu perusahaan dalam mengidentifikasi tren dan pola dalam data Original Netflix untuk memperbaiki layanan. Hasil dari analisa ini akan menjadi bahan pertimbangan kepada stakeholder yaitu Chief Content Officer terkait permasalahan berikut:"
   ]
  },
  {
   "attachments": {},
   "cell_type": "markdown",
   "metadata": {},
   "source": [
    "- Menganalisa apakah mengkategorikan Film Original Netflix menjadi Short Film and Feature films akan lebih tepat sasaran buat pelanggan.\n",
    "- Perbandingan antara Short Film dan Feature Film berdasarkan Total Filmnya.\n",
    "- Perbandingan antara Short Film dan Feature Film berdasarkan rata-rata Skor IMDB.\n",
    "- Perbandingan antara Short Film dan Feature Film berdasarkan rata-rata Skor IMDB pertahunnya."
   ]
  },
  {
   "attachments": {},
   "cell_type": "markdown",
   "metadata": {},
   "source": [
    "## Source Data\n",
    "Untuk menjawab pertanyaan di atas, kita akan menganalisa data Film Netflix Original yang sudah dikumpulkan oleh perusahaan. Dataset dapat diakses [di sini](https://www.kaggle.com/datasets/luiscorter/netflix-original-films-imdb-scores). "
   ]
  },
  {
   "cell_type": "code",
   "execution_count": 3,
   "metadata": {},
   "outputs": [],
   "source": [
    "import pandas as pd\n",
    "import numpy as np\n",
    "import datetime as dt\n",
    "import plotly.express as px\n",
    "import plotly.graph_objects as go\n",
    "import matplotlib.pyplot as plt\n",
    "import seaborn as sns"
   ]
  },
  {
   "attachments": {},
   "cell_type": "markdown",
   "metadata": {},
   "source": [
    "## Data Understanding and Cleaning"
   ]
  },
  {
   "cell_type": "code",
   "execution_count": 4,
   "metadata": {},
   "outputs": [
    {
     "data": {
      "text/html": [
       "<div>\n",
       "<style scoped>\n",
       "    .dataframe tbody tr th:only-of-type {\n",
       "        vertical-align: middle;\n",
       "    }\n",
       "\n",
       "    .dataframe tbody tr th {\n",
       "        vertical-align: top;\n",
       "    }\n",
       "\n",
       "    .dataframe thead th {\n",
       "        text-align: right;\n",
       "    }\n",
       "</style>\n",
       "<table border=\"1\" class=\"dataframe\">\n",
       "  <thead>\n",
       "    <tr style=\"text-align: right;\">\n",
       "      <th></th>\n",
       "      <th>Title</th>\n",
       "      <th>Genre</th>\n",
       "      <th>Premiere</th>\n",
       "      <th>Runtime</th>\n",
       "      <th>IMDB Score</th>\n",
       "      <th>Language</th>\n",
       "    </tr>\n",
       "  </thead>\n",
       "  <tbody>\n",
       "    <tr>\n",
       "      <th>0</th>\n",
       "      <td>#REALITYHIGH</td>\n",
       "      <td>Comedy</td>\n",
       "      <td>September 8, 2017</td>\n",
       "      <td>99</td>\n",
       "      <td>5.2</td>\n",
       "      <td>English</td>\n",
       "    </tr>\n",
       "    <tr>\n",
       "      <th>1</th>\n",
       "      <td>13th</td>\n",
       "      <td>Documentary</td>\n",
       "      <td>October 7, 2016</td>\n",
       "      <td>100</td>\n",
       "      <td>8.2</td>\n",
       "      <td>English</td>\n",
       "    </tr>\n",
       "    <tr>\n",
       "      <th>2</th>\n",
       "      <td>13th: A Conversation with Oprah Winfrey &amp; Ava ...</td>\n",
       "      <td>Aftershow / Interview</td>\n",
       "      <td>January 26, 2017</td>\n",
       "      <td>36</td>\n",
       "      <td>7.1</td>\n",
       "      <td>English</td>\n",
       "    </tr>\n",
       "    <tr>\n",
       "      <th>3</th>\n",
       "      <td>15 August</td>\n",
       "      <td>Comedy-drama</td>\n",
       "      <td>March 29, 2019</td>\n",
       "      <td>124</td>\n",
       "      <td>5.8</td>\n",
       "      <td>Marathi</td>\n",
       "    </tr>\n",
       "    <tr>\n",
       "      <th>4</th>\n",
       "      <td>1922</td>\n",
       "      <td>Horror/Crime drama</td>\n",
       "      <td>October 20, 2017</td>\n",
       "      <td>102</td>\n",
       "      <td>6.3</td>\n",
       "      <td>English</td>\n",
       "    </tr>\n",
       "  </tbody>\n",
       "</table>\n",
       "</div>"
      ],
      "text/plain": [
       "                                               Title                  Genre  \\\n",
       "0                                       #REALITYHIGH                 Comedy   \n",
       "1                                               13th            Documentary   \n",
       "2  13th: A Conversation with Oprah Winfrey & Ava ...  Aftershow / Interview   \n",
       "3                                          15 August           Comedy-drama   \n",
       "4                                               1922     Horror/Crime drama   \n",
       "\n",
       "            Premiere  Runtime  IMDB Score Language  \n",
       "0  September 8, 2017       99         5.2  English  \n",
       "1    October 7, 2016      100         8.2  English  \n",
       "2   January 26, 2017       36         7.1  English  \n",
       "3     March 29, 2019      124         5.8  Marathi  \n",
       "4   October 20, 2017      102         6.3  English  "
      ]
     },
     "execution_count": 4,
     "metadata": {},
     "output_type": "execute_result"
    }
   ],
   "source": [
    "df = pd.read_csv('Netflix Originals.csv')\n",
    "df = df.drop(columns='Unnamed: 0')\n",
    "df.head()"
   ]
  },
  {
   "cell_type": "code",
   "execution_count": 5,
   "metadata": {},
   "outputs": [
    {
     "name": "stdout",
     "output_type": "stream",
     "text": [
      "This dataframe contains 584 rows and 6 columns\n"
     ]
    }
   ],
   "source": [
    "print('This dataframe contains {} rows and {} columns'.format(df.shape[0], df.shape[1]))"
   ]
  },
  {
   "attachments": {},
   "cell_type": "markdown",
   "metadata": {},
   "source": [
    "Terdapat 584 data film orisinal Netflix teratas dengan genre yang berbeda. Kumpulan data ini terdiri dari semua film asli Netflix yang dirilis per 1 Juni 2021. Selain itu, kumpulan ini juga mencakup semua film dokumenter dan spesial Netflix."
   ]
  },
  {
   "attachments": {},
   "cell_type": "markdown",
   "metadata": {},
   "source": [
    "Dataset ini berisi informasi terkait Film Original Netflix. Ada 6 kolom di dalam dataset 'Netflix Original.csv' ini, yaitu:\n",
    "\n",
    "- Title: Title of the film\n",
    "- Genre: Genre of the film\n",
    "- Premiere: Origina lpremiere date\n",
    "- Runtime: Runtime in minutes\n",
    "- IMDBScore: IMDB scores (as of 06/01/21)\n",
    "- Language: Languages currently available (as of 06/01/21)"
   ]
  },
  {
   "cell_type": "code",
   "execution_count": 62,
   "metadata": {},
   "outputs": [
    {
     "data": {
      "text/plain": [
       "Title           object\n",
       "Genre           object\n",
       "Premiere        object\n",
       "Runtime          int64\n",
       "IMDB Score     float64\n",
       "Language        object\n",
       "Year             int64\n",
       "Film          category\n",
       "dtype: object"
      ]
     },
     "execution_count": 62,
     "metadata": {},
     "output_type": "execute_result"
    }
   ],
   "source": [
    "df.dtypes"
   ]
  },
  {
   "cell_type": "code",
   "execution_count": 64,
   "metadata": {},
   "outputs": [
    {
     "name": "stdout",
     "output_type": "stream",
     "text": [
      "<class 'pandas.core.frame.DataFrame'>\n",
      "RangeIndex: 584 entries, 0 to 583\n",
      "Data columns (total 8 columns):\n",
      " #   Column      Non-Null Count  Dtype   \n",
      "---  ------      --------------  -----   \n",
      " 0   Title       584 non-null    object  \n",
      " 1   Genre       584 non-null    object  \n",
      " 2   Premiere    584 non-null    object  \n",
      " 3   Runtime     584 non-null    int64   \n",
      " 4   IMDB Score  580 non-null    float64 \n",
      " 5   Language    584 non-null    object  \n",
      " 6   Year        584 non-null    int64   \n",
      " 7   Film        584 non-null    category\n",
      "dtypes: category(1), float64(1), int64(2), object(4)\n",
      "memory usage: 32.8+ KB\n"
     ]
    }
   ],
   "source": [
    "df.info()"
   ]
  },
  {
   "cell_type": "code",
   "execution_count": 67,
   "metadata": {},
   "outputs": [
    {
     "data": {
      "text/plain": [
       "(True,\n",
       " Title         0\n",
       " Genre         0\n",
       " Premiere      0\n",
       " Runtime       0\n",
       " IMDB Score    4\n",
       " Language      0\n",
       " Year          0\n",
       " Film          0\n",
       " dtype: int64)"
      ]
     },
     "execution_count": 67,
     "metadata": {},
     "output_type": "execute_result"
    }
   ],
   "source": [
    "df.isnull().sum()"
   ]
  },
  {
   "cell_type": "code",
   "execution_count": 66,
   "metadata": {},
   "outputs": [
    {
     "data": {
      "text/plain": [
       "Title         0.000000\n",
       "Genre         0.000000\n",
       "Premiere      0.000000\n",
       "Runtime       0.000000\n",
       "IMDB Score    0.684932\n",
       "Language      0.000000\n",
       "Year          0.000000\n",
       "Film          0.000000\n",
       "dtype: float64"
      ]
     },
     "execution_count": 66,
     "metadata": {},
     "output_type": "execute_result"
    }
   ],
   "source": [
    "df.isna().sum()/df.shape[0]*100"
   ]
  },
  {
   "cell_type": "code",
   "execution_count": 68,
   "metadata": {},
   "outputs": [
    {
     "data": {
      "text/plain": [
       "0"
      ]
     },
     "execution_count": 68,
     "metadata": {},
     "output_type": "execute_result"
    }
   ],
   "source": [
    "df.duplicated().sum()"
   ]
  },
  {
   "cell_type": "code",
   "execution_count": 69,
   "metadata": {},
   "outputs": [
    {
     "data": {
      "text/html": [
       "<div>\n",
       "<style scoped>\n",
       "    .dataframe tbody tr th:only-of-type {\n",
       "        vertical-align: middle;\n",
       "    }\n",
       "\n",
       "    .dataframe tbody tr th {\n",
       "        vertical-align: top;\n",
       "    }\n",
       "\n",
       "    .dataframe thead th {\n",
       "        text-align: right;\n",
       "    }\n",
       "</style>\n",
       "<table border=\"1\" class=\"dataframe\">\n",
       "  <thead>\n",
       "    <tr style=\"text-align: right;\">\n",
       "      <th></th>\n",
       "      <th>count</th>\n",
       "      <th>mean</th>\n",
       "      <th>std</th>\n",
       "      <th>min</th>\n",
       "      <th>5%</th>\n",
       "      <th>25%</th>\n",
       "      <th>50%</th>\n",
       "      <th>75%</th>\n",
       "      <th>95%</th>\n",
       "      <th>99%</th>\n",
       "      <th>max</th>\n",
       "    </tr>\n",
       "  </thead>\n",
       "  <tbody>\n",
       "    <tr>\n",
       "      <th>Runtime</th>\n",
       "      <td>584.0</td>\n",
       "      <td>93.577055</td>\n",
       "      <td>27.761683</td>\n",
       "      <td>4.0</td>\n",
       "      <td>30.150</td>\n",
       "      <td>86.0</td>\n",
       "      <td>97.0</td>\n",
       "      <td>108.0</td>\n",
       "      <td>132.0</td>\n",
       "      <td>149.000</td>\n",
       "      <td>209.0</td>\n",
       "    </tr>\n",
       "    <tr>\n",
       "      <th>IMDB Score</th>\n",
       "      <td>580.0</td>\n",
       "      <td>6.277414</td>\n",
       "      <td>0.978380</td>\n",
       "      <td>2.5</td>\n",
       "      <td>4.595</td>\n",
       "      <td>5.7</td>\n",
       "      <td>6.4</td>\n",
       "      <td>7.0</td>\n",
       "      <td>7.7</td>\n",
       "      <td>8.321</td>\n",
       "      <td>9.0</td>\n",
       "    </tr>\n",
       "    <tr>\n",
       "      <th>Year</th>\n",
       "      <td>584.0</td>\n",
       "      <td>2018.936644</td>\n",
       "      <td>1.473992</td>\n",
       "      <td>2014.0</td>\n",
       "      <td>2016.000</td>\n",
       "      <td>2018.0</td>\n",
       "      <td>2019.0</td>\n",
       "      <td>2020.0</td>\n",
       "      <td>2021.0</td>\n",
       "      <td>2021.000</td>\n",
       "      <td>2021.0</td>\n",
       "    </tr>\n",
       "  </tbody>\n",
       "</table>\n",
       "</div>"
      ],
      "text/plain": [
       "            count         mean        std     min        5%     25%     50%  \\\n",
       "Runtime     584.0    93.577055  27.761683     4.0    30.150    86.0    97.0   \n",
       "IMDB Score  580.0     6.277414   0.978380     2.5     4.595     5.7     6.4   \n",
       "Year        584.0  2018.936644   1.473992  2014.0  2016.000  2018.0  2019.0   \n",
       "\n",
       "               75%     95%       99%     max  \n",
       "Runtime      108.0   132.0   149.000   209.0  \n",
       "IMDB Score     7.0     7.7     8.321     9.0  \n",
       "Year        2020.0  2021.0  2021.000  2021.0  "
      ]
     },
     "execution_count": 69,
     "metadata": {},
     "output_type": "execute_result"
    }
   ],
   "source": [
    "df.describe([0.05, 0.25, 0.50, 0.75, 0.95, 0.99]).T"
   ]
  },
  {
   "cell_type": "code",
   "execution_count": 51,
   "metadata": {},
   "outputs": [
    {
     "data": {
      "text/plain": [
       "<Axes: >"
      ]
     },
     "execution_count": 51,
     "metadata": {},
     "output_type": "execute_result"
    },
    {
     "data": {
      "image/png": "[encoded data removed]",
      "text/plain": [
       "<Figure size 1000x1000 with 2 Axes>"
      ]
     },
     "metadata": {},
     "output_type": "display_data"
    }
   ],
   "source": [
    "plt.figure(figsize=(10,10))\n",
    "sns.heatmap(df[['Title','Genre','Premiere','Runtime','IMDB Score','Language']].isna())\n"
   ]
  },
  {
   "attachments": {},
   "cell_type": "markdown",
   "metadata": {},
   "source": [
    "Bisa dilihat sebaran missing value yang hanya terdapat di dalam kolom IMDB Score dengan Jumlah data kosong yaitu 4."
   ]
  },
  {
   "attachments": {},
   "cell_type": "markdown",
   "metadata": {},
   "source": [
    "**Change Datetime**"
   ]
  },
  {
   "cell_type": "code",
   "execution_count": 8,
   "metadata": {},
   "outputs": [
    {
     "data": {
      "text/html": [
       "<div>\n",
       "<style scoped>\n",
       "    .dataframe tbody tr th:only-of-type {\n",
       "        vertical-align: middle;\n",
       "    }\n",
       "\n",
       "    .dataframe tbody tr th {\n",
       "        vertical-align: top;\n",
       "    }\n",
       "\n",
       "    .dataframe thead th {\n",
       "        text-align: right;\n",
       "    }\n",
       "</style>\n",
       "<table border=\"1\" class=\"dataframe\">\n",
       "  <thead>\n",
       "    <tr style=\"text-align: right;\">\n",
       "      <th></th>\n",
       "      <th>Title</th>\n",
       "      <th>Genre</th>\n",
       "      <th>Premiere</th>\n",
       "      <th>Runtime</th>\n",
       "      <th>IMDB Score</th>\n",
       "      <th>Language</th>\n",
       "      <th>Year</th>\n",
       "    </tr>\n",
       "  </thead>\n",
       "  <tbody>\n",
       "    <tr>\n",
       "      <th>0</th>\n",
       "      <td>#REALITYHIGH</td>\n",
       "      <td>Comedy</td>\n",
       "      <td>2017-09-08</td>\n",
       "      <td>99</td>\n",
       "      <td>5.2</td>\n",
       "      <td>English</td>\n",
       "      <td>2017</td>\n",
       "    </tr>\n",
       "    <tr>\n",
       "      <th>1</th>\n",
       "      <td>13th</td>\n",
       "      <td>Documentary</td>\n",
       "      <td>2016-10-07</td>\n",
       "      <td>100</td>\n",
       "      <td>8.2</td>\n",
       "      <td>English</td>\n",
       "      <td>2016</td>\n",
       "    </tr>\n",
       "    <tr>\n",
       "      <th>2</th>\n",
       "      <td>13th: A Conversation with Oprah Winfrey &amp; Ava ...</td>\n",
       "      <td>Aftershow / Interview</td>\n",
       "      <td>2017-01-26</td>\n",
       "      <td>36</td>\n",
       "      <td>7.1</td>\n",
       "      <td>English</td>\n",
       "      <td>2017</td>\n",
       "    </tr>\n",
       "    <tr>\n",
       "      <th>3</th>\n",
       "      <td>15 August</td>\n",
       "      <td>Comedy-drama</td>\n",
       "      <td>2019-03-29</td>\n",
       "      <td>124</td>\n",
       "      <td>5.8</td>\n",
       "      <td>Marathi</td>\n",
       "      <td>2019</td>\n",
       "    </tr>\n",
       "    <tr>\n",
       "      <th>4</th>\n",
       "      <td>1922</td>\n",
       "      <td>Horror/Crime drama</td>\n",
       "      <td>2017-10-20</td>\n",
       "      <td>102</td>\n",
       "      <td>6.3</td>\n",
       "      <td>English</td>\n",
       "      <td>2017</td>\n",
       "    </tr>\n",
       "  </tbody>\n",
       "</table>\n",
       "</div>"
      ],
      "text/plain": [
       "                                               Title                  Genre  \\\n",
       "0                                       #REALITYHIGH                 Comedy   \n",
       "1                                               13th            Documentary   \n",
       "2  13th: A Conversation with Oprah Winfrey & Ava ...  Aftershow / Interview   \n",
       "3                                          15 August           Comedy-drama   \n",
       "4                                               1922     Horror/Crime drama   \n",
       "\n",
       "    Premiere  Runtime  IMDB Score Language  Year  \n",
       "0 2017-09-08       99         5.2  English  2017  \n",
       "1 2016-10-07      100         8.2  English  2016  \n",
       "2 2017-01-26       36         7.1  English  2017  \n",
       "3 2019-03-29      124         5.8  Marathi  2019  \n",
       "4 2017-10-20      102         6.3  English  2017  "
      ]
     },
     "execution_count": 8,
     "metadata": {},
     "output_type": "execute_result"
    }
   ],
   "source": [
    "df[\"Premiere\"] = pd.to_datetime(df['Premiere'])\n",
    "\n",
    "df['Year'] = df['Premiere'].dt.year\n",
    "\n",
    "df.head()"
   ]
  },
  {
   "cell_type": "code",
   "execution_count": 9,
   "metadata": {},
   "outputs": [
    {
     "data": {
      "text/plain": [
       "array([2017, 2016, 2019, 2018, 2020, 2015, 2021, 2014], dtype=int64)"
      ]
     },
     "execution_count": 9,
     "metadata": {},
     "output_type": "execute_result"
    }
   ],
   "source": [
    "df['Year'].unique()"
   ]
  },
  {
   "cell_type": "code",
   "execution_count": 10,
   "metadata": {},
   "outputs": [
    {
     "data": {
      "text/plain": [
       "2020    183\n",
       "2019    125\n",
       "2018     99\n",
       "2021     71\n",
       "2017     66\n",
       "2016     30\n",
       "2015      9\n",
       "2014      1\n",
       "Name: Year, dtype: int64"
      ]
     },
     "execution_count": 10,
     "metadata": {},
     "output_type": "execute_result"
    }
   ],
   "source": [
    "df['Year'].value_counts()"
   ]
  },
  {
   "attachments": {},
   "cell_type": "markdown",
   "metadata": {},
   "source": [
    "**Simpan data yang sudah di cleaning dan di formating.**\n",
    "\n",
    "Untuk kolom yang terdapat Missing Value, disini dilakukan pengisian manual langsung di microsoft excel karena hanya terdapat 4 data yang Nan yaitu terdapat pada kolom IMDB Score."
   ]
  },
  {
   "cell_type": "code",
   "execution_count": 11,
   "metadata": {},
   "outputs": [],
   "source": [
    "# df.to_csv('Netflix Clean.csv')"
   ]
  },
  {
   "attachments": {},
   "cell_type": "markdown",
   "metadata": {},
   "source": [
    "**Data yang sudah bersih**"
   ]
  },
  {
   "cell_type": "code",
   "execution_count": 12,
   "metadata": {},
   "outputs": [
    {
     "data": {
      "text/html": [
       "<div>\n",
       "<style scoped>\n",
       "    .dataframe tbody tr th:only-of-type {\n",
       "        vertical-align: middle;\n",
       "    }\n",
       "\n",
       "    .dataframe tbody tr th {\n",
       "        vertical-align: top;\n",
       "    }\n",
       "\n",
       "    .dataframe thead th {\n",
       "        text-align: right;\n",
       "    }\n",
       "</style>\n",
       "<table border=\"1\" class=\"dataframe\">\n",
       "  <thead>\n",
       "    <tr style=\"text-align: right;\">\n",
       "      <th></th>\n",
       "      <th>Title</th>\n",
       "      <th>Genre</th>\n",
       "      <th>Premiere</th>\n",
       "      <th>Runtime</th>\n",
       "      <th>IMDB Score</th>\n",
       "      <th>Language</th>\n",
       "      <th>Year</th>\n",
       "    </tr>\n",
       "  </thead>\n",
       "  <tbody>\n",
       "    <tr>\n",
       "      <th>0</th>\n",
       "      <td>#REALITYHIGH</td>\n",
       "      <td>Comedy</td>\n",
       "      <td>2017-09-08</td>\n",
       "      <td>99</td>\n",
       "      <td>5.2</td>\n",
       "      <td>English</td>\n",
       "      <td>2017</td>\n",
       "    </tr>\n",
       "    <tr>\n",
       "      <th>1</th>\n",
       "      <td>13th</td>\n",
       "      <td>Documentary</td>\n",
       "      <td>2016-10-07</td>\n",
       "      <td>100</td>\n",
       "      <td>8.2</td>\n",
       "      <td>English</td>\n",
       "      <td>2016</td>\n",
       "    </tr>\n",
       "    <tr>\n",
       "      <th>2</th>\n",
       "      <td>13th: A Conversation with Oprah Winfrey &amp; Ava ...</td>\n",
       "      <td>Aftershow / Interview</td>\n",
       "      <td>2017-01-26</td>\n",
       "      <td>36</td>\n",
       "      <td>7.1</td>\n",
       "      <td>English</td>\n",
       "      <td>2017</td>\n",
       "    </tr>\n",
       "    <tr>\n",
       "      <th>3</th>\n",
       "      <td>15 August</td>\n",
       "      <td>Comedy-drama</td>\n",
       "      <td>2019-03-29</td>\n",
       "      <td>124</td>\n",
       "      <td>5.8</td>\n",
       "      <td>Marathi</td>\n",
       "      <td>2019</td>\n",
       "    </tr>\n",
       "    <tr>\n",
       "      <th>4</th>\n",
       "      <td>1922</td>\n",
       "      <td>Horror/Crime drama</td>\n",
       "      <td>2017-10-20</td>\n",
       "      <td>102</td>\n",
       "      <td>6.3</td>\n",
       "      <td>English</td>\n",
       "      <td>2017</td>\n",
       "    </tr>\n",
       "  </tbody>\n",
       "</table>\n",
       "</div>"
      ],
      "text/plain": [
       "                                               Title                  Genre  \\\n",
       "0                                       #REALITYHIGH                 Comedy   \n",
       "1                                               13th            Documentary   \n",
       "2  13th: A Conversation with Oprah Winfrey & Ava ...  Aftershow / Interview   \n",
       "3                                          15 August           Comedy-drama   \n",
       "4                                               1922     Horror/Crime drama   \n",
       "\n",
       "     Premiere  Runtime  IMDB Score Language  Year  \n",
       "0  2017-09-08       99         5.2  English  2017  \n",
       "1  2016-10-07      100         8.2  English  2016  \n",
       "2  2017-01-26       36         7.1  English  2017  \n",
       "3  2019-03-29      124         5.8  Marathi  2019  \n",
       "4  2017-10-20      102         6.3  English  2017  "
      ]
     },
     "execution_count": 12,
     "metadata": {},
     "output_type": "execute_result"
    }
   ],
   "source": [
    "df = pd.read_csv('Netflix Clean.csv')\n",
    "df = df.drop(columns=['Unnamed: 0'])\n",
    "df.head()"
   ]
  },
  {
   "cell_type": "code",
   "execution_count": 13,
   "metadata": {},
   "outputs": [
    {
     "name": "stdout",
     "output_type": "stream",
     "text": [
      "(584, 7)\n"
     ]
    },
    {
     "data": {
      "text/html": [
       "<div>\n",
       "<style scoped>\n",
       "    .dataframe tbody tr th:only-of-type {\n",
       "        vertical-align: middle;\n",
       "    }\n",
       "\n",
       "    .dataframe tbody tr th {\n",
       "        vertical-align: top;\n",
       "    }\n",
       "\n",
       "    .dataframe thead th {\n",
       "        text-align: right;\n",
       "    }\n",
       "</style>\n",
       "<table border=\"1\" class=\"dataframe\">\n",
       "  <thead>\n",
       "    <tr style=\"text-align: right;\">\n",
       "      <th></th>\n",
       "      <th>dataFeatures</th>\n",
       "      <th>dataType</th>\n",
       "      <th>null</th>\n",
       "      <th>unique</th>\n",
       "      <th>uniqueSample</th>\n",
       "    </tr>\n",
       "  </thead>\n",
       "  <tbody>\n",
       "    <tr>\n",
       "      <th>0</th>\n",
       "      <td>Title</td>\n",
       "      <td>object</td>\n",
       "      <td>0</td>\n",
       "      <td>584</td>\n",
       "      <td>[The Death and Life of Marsha P. Johnson, The ...</td>\n",
       "    </tr>\n",
       "    <tr>\n",
       "      <th>1</th>\n",
       "      <td>Genre</td>\n",
       "      <td>object</td>\n",
       "      <td>0</td>\n",
       "      <td>115</td>\n",
       "      <td>[Science fiction thriller, Anime / Short]</td>\n",
       "    </tr>\n",
       "    <tr>\n",
       "      <th>2</th>\n",
       "      <td>Premiere</td>\n",
       "      <td>object</td>\n",
       "      <td>0</td>\n",
       "      <td>387</td>\n",
       "      <td>[2020-07-03, 2021-04-29]</td>\n",
       "    </tr>\n",
       "    <tr>\n",
       "      <th>3</th>\n",
       "      <td>Runtime</td>\n",
       "      <td>int64</td>\n",
       "      <td>0</td>\n",
       "      <td>124</td>\n",
       "      <td>[94, 12]</td>\n",
       "    </tr>\n",
       "    <tr>\n",
       "      <th>4</th>\n",
       "      <td>IMDB Score</td>\n",
       "      <td>float64</td>\n",
       "      <td>4</td>\n",
       "      <td>54</td>\n",
       "      <td>[7.4, 7.6]</td>\n",
       "    </tr>\n",
       "    <tr>\n",
       "      <th>5</th>\n",
       "      <td>Language</td>\n",
       "      <td>object</td>\n",
       "      <td>0</td>\n",
       "      <td>38</td>\n",
       "      <td>[Japanese, Norwegian]</td>\n",
       "    </tr>\n",
       "    <tr>\n",
       "      <th>6</th>\n",
       "      <td>Year</td>\n",
       "      <td>int64</td>\n",
       "      <td>0</td>\n",
       "      <td>8</td>\n",
       "      <td>[2021, 2020]</td>\n",
       "    </tr>\n",
       "  </tbody>\n",
       "</table>\n",
       "</div>"
      ],
      "text/plain": [
       "  dataFeatures dataType  null  unique  \\\n",
       "0        Title   object     0     584   \n",
       "1        Genre   object     0     115   \n",
       "2     Premiere   object     0     387   \n",
       "3      Runtime    int64     0     124   \n",
       "4   IMDB Score  float64     4      54   \n",
       "5     Language   object     0      38   \n",
       "6         Year    int64     0       8   \n",
       "\n",
       "                                        uniqueSample  \n",
       "0  [The Death and Life of Marsha P. Johnson, The ...  \n",
       "1          [Science fiction thriller, Anime / Short]  \n",
       "2                           [2020-07-03, 2021-04-29]  \n",
       "3                                           [94, 12]  \n",
       "4                                         [7.4, 7.6]  \n",
       "5                              [Japanese, Norwegian]  \n",
       "6                                       [2021, 2020]  "
      ]
     },
     "execution_count": 13,
     "metadata": {},
     "output_type": "execute_result"
    }
   ],
   "source": [
    "listItem = []\n",
    "for col in df.columns :\n",
    "    listItem.append([col, df[col].dtype, df[col].isna().sum(),\n",
    "                    df[col].nunique(), list(df[col].drop_duplicates().sample(2).values)]);\n",
    "\n",
    "dfDesc = pd.DataFrame(columns=['dataFeatures', 'dataType', 'null', 'unique', 'uniqueSample'],\n",
    "                     data=listItem)\n",
    "print(df.shape)\n",
    "dfDesc"
   ]
  },
  {
   "attachments": {},
   "cell_type": "markdown",
   "metadata": {},
   "source": [
    "# Data Analysis\n",
    "Setelah melakukan tahap _data cleaning_. Sekarang, bisa mulai melakukan analisis untuk mencari tahu **bagaimana karakteristik data Film Netflix Original**.  \n",
    "\n",
    "Untuk menganalisis karakteristik data Film Netflix Original berdasarkan kategori Short Film dan Feature Film, dapat dimulai dengan membagi data menjadi dua grup berdasarkan runtime. Kemudian, dapat delihat perbedaan dan kesamaan antara kedua grup tersebut dalam hal karakteristik seperti genre, rating, popularitas, dan lain-lain."
   ]
  },
  {
   "cell_type": "code",
   "execution_count": 46,
   "metadata": {},
   "outputs": [
    {
     "data": {
      "application/vnd.plotly.v1+json": {
       "config": {
        "plotlyServerURL": "https://plot.ly"
       },
       "data": [
        {
         "alignmentgroup": "True",
         "bingroup": "x",
         "hovertemplate": "IMDB Score=%{x}<br>count=%{y}<extra></extra>",
         "legendgroup": "",
         "marker": {
          "color": "#636efa",
          "pattern": {
           "shape": ""
          }
         },
         "name": "",
         "offsetgroup": "",
         "orientation": "v",
         "showlegend": false,
         "type": "histogram",
         "x": [
          5.2,
          8.2,
          7.1,
          5.8,
          6.3,
          6.8,
          4.6,
          5.9,
          6.1,
          6.8,
          6.5,
          5.4,
          5.8,
          5.8,
          5.4,
          5.3,
          5.9,
          6.8,
          6.8,
          6.8,
          7.9,
          6.3,
          5.5,
          5.7,
          6.7,
          4.6,
          4.3,
          5,
          6.7,
          6.9,
          6.3,
          6.2,
          4.2,
          5.8,
          6.8,
          6.5,
          6.5,
          6.5,
          6.8,
          6.9,
          5.9,
          7.4,
          5.2,
          7.2,
          5.8,
          6.4,
          7.1,
          7.1,
          7.7,
          6.5,
          6.3,
          6.4,
          6.7,
          5.9,
          6.4,
          7.6,
          7.2,
          5.3,
          6.6,
          6.2,
          7.5,
          5.8,
          7.7,
          7.1,
          6.8,
          5.5,
          6.2,
          8.4,
          6.3,
          6.1,
          6.9,
          6.9,
          6.7,
          6.6,
          6.4,
          7.5,
          6.7,
          6.7,
          5.6,
          5.6,
          7.7,
          6.3,
          6.6,
          6.1,
          5.1,
          6.8,
          5.9,
          5.8,
          6.5,
          6.3,
          6.1,
          5.7,
          6.5,
          8.1,
          5.8,
          6.5,
          4.8,
          5.7,
          7.1,
          6.2,
          7.5,
          5.8,
          5.1,
          5.1,
          4.8,
          6,
          6.4,
          6.3,
          6.9,
          6.7,
          6.7,
          6.6,
          6.2,
          7.7,
          8.3,
          6.5,
          5.7,
          7.1,
          8.3,
          5.3,
          2.6,
          9,
          5.5,
          4.4,
          6.8,
          6.1,
          7.1,
          5.2,
          5.4,
          7.5,
          8.2,
          7.3,
          5.4,
          6.5,
          5.2,
          5.6,
          3.5,
          5.1,
          4.9,
          5.9,
          5.7,
          7.3,
          7.1,
          5.7,
          6.6,
          8.6,
          7.1,
          2.5,
          6.5,
          7.1,
          5.8,
          6.7,
          7.3,
          5.6,
          4.5,
          5.2,
          7.3,
          4.9,
          6.3,
          7,
          7.1,
          6.1,
          4.7,
          7.4,
          5.2,
          6.4,
          7.2,
          6,
          6.4,
          5.9,
          5.4,
          7.2,
          7,
          5.4,
          5.1,
          6.5,
          7.3,
          6.3,
          5.5,
          5.2,
          4.3,
          5.5,
          6.8,
          5.7,
          5.2,
          6.7,
          5.7,
          7.1,
          7.1,
          null,
          5.3,
          5.2,
          5.8,
          6.8,
          6.2,
          4.4,
          6.8,
          6.2,
          6.7,
          6.5,
          5.6,
          6.1,
          6.1,
          4.9,
          7.5,
          6.7,
          5.9,
          6.1,
          5.5,
          5,
          5.2,
          5.8,
          6.3,
          4.6,
          6.9,
          6.6,
          7.3,
          7,
          6.6,
          5.2,
          6,
          7.9,
          7.8,
          6.7,
          6.2,
          5.4,
          7.2,
          5.3,
          7.5,
          4.7,
          6.4,
          6.4,
          6.6,
          7.7,
          6.5,
          7.5,
          7.5,
          6.4,
          7.1,
          6,
          6.3,
          6.7,
          4.5,
          7.7,
          3.4,
          7.1,
          5.5,
          7,
          8.2,
          7.1,
          7.2,
          7.2,
          6.9,
          6.4,
          5.8,
          3.7,
          6.5,
          6.1,
          5.7,
          5.7,
          6.7,
          6.8,
          7.4,
          7,
          7,
          6.2,
          6.1,
          7.1,
          5,
          7.2,
          5.5,
          5.6,
          6,
          7.6,
          6.5,
          7,
          7,
          5.4,
          6.7,
          6.9,
          7.9,
          5.8,
          5.9,
          6.8,
          4.2,
          6.7,
          6.6,
          7.4,
          6.5,
          6.5,
          6.7,
          4.8,
          7.3,
          6,
          6.4,
          6.3,
          5.5,
          7.1,
          8.1,
          6.4,
          6.3,
          5.4,
          6.4,
          6.7,
          6.5,
          4.8,
          6.5,
          6.3,
          5.9,
          6.2,
          7.3,
          6.2,
          7.3,
          5.5,
          7.3,
          7.1,
          5.7,
          5.6,
          5.8,
          7,
          6.1,
          6.9,
          5.7,
          6.9,
          5.4,
          6.4,
          6.5,
          7.2,
          6.9,
          6.7,
          3.9,
          6.7,
          null,
          6.1,
          7,
          7.4,
          7.1,
          5.7,
          6.3,
          4.6,
          6.3,
          5.7,
          7.2,
          6,
          7.6,
          7.3,
          5.8,
          7.1,
          4.6,
          6,
          5,
          6.6,
          5.5,
          7,
          7.3,
          7,
          7,
          7.3,
          7.1,
          6.6,
          6.9,
          7,
          7.5,
          5.8,
          5.5,
          null,
          5.8,
          8.1,
          7.7,
          7,
          5.8,
          6.1,
          7.6,
          7.7,
          7.1,
          7,
          6.2,
          6.3,
          5.2,
          5.6,
          4.1,
          6.8,
          4.1,
          8.2,
          4.4,
          7.3,
          5.2,
          6.9,
          4.7,
          6.1,
          6.8,
          4.5,
          6.5,
          7.2,
          4.4,
          6.6,
          7.4,
          6.3,
          7.4,
          5.8,
          7.3,
          7.3,
          5.8,
          4.7,
          6.2,
          7.2,
          7.2,
          6.6,
          5.8,
          6.3,
          6.9,
          6.2,
          8.5,
          5,
          5.5,
          5.2,
          6.4,
          5.2,
          6.4,
          8,
          6.1,
          6.4,
          4.8,
          6.4,
          5.2,
          6.7,
          5.8,
          8.4,
          7.3,
          7.6,
          6.1,
          7.2,
          5.8,
          6.6,
          6.6,
          2.6,
          6.3,
          5.8,
          7.3,
          5.2,
          4.7,
          7.4,
          7.6,
          6.8,
          6.8,
          4.1,
          7,
          6,
          6.9,
          5.8,
          5.5,
          6.6,
          4.9,
          7.3,
          5.9,
          7.1,
          7.1,
          7,
          7.2,
          6.3,
          5.7,
          7.2,
          6.3,
          7.3,
          4.4,
          7.1,
          6.9,
          6.4,
          6.9,
          5.7,
          6.5,
          7.8,
          7.4,
          7.9,
          6.1,
          7.2,
          6,
          5.8,
          5.5,
          6.2,
          5.1,
          3.7,
          5.6,
          5.6,
          4.3,
          6.3,
          5.5,
          6.3,
          6.8,
          6.9,
          6.1,
          4.8,
          6.4,
          6.9,
          5.6,
          5.9,
          4.5,
          5.3,
          6.1,
          7,
          6.4,
          6.7,
          3.2,
          7.3,
          6.8,
          6.3,
          5.5,
          5.6,
          5.8,
          6.1,
          4.6,
          5.9,
          6,
          5.4,
          5.9,
          6.2,
          6.6,
          4.8,
          7.2,
          7.2,
          5.6,
          7.6,
          7.4,
          8.2,
          6.8,
          7.8,
          7.6,
          5.2,
          7.5,
          7.1,
          6.4,
          5.7,
          5.7,
          7.4,
          5.3,
          4.4,
          7.4,
          6.5,
          6.3,
          7.1,
          6.3,
          6,
          5.3,
          6.8,
          6.8,
          6.7,
          6.5,
          6.3,
          6.1,
          6.4,
          5.9,
          6.4,
          5.9,
          6.3,
          5.4,
          5.5,
          6.1,
          6.7,
          5.6,
          5.7,
          6.2,
          6.4,
          6,
          4.6,
          4.7,
          6.5,
          4.3,
          7.6,
          5.8,
          null,
          6.4,
          6.4,
          4.1,
          5.3,
          5.6,
          6.2,
          5.5,
          8.4,
          6.1,
          5.3,
          7.6,
          5.7,
          5.8,
          7.2
         ],
         "xaxis": "x",
         "yaxis": "y"
        }
       ],
       "layout": {
        "barmode": "relative",
        "legend": {
         "tracegroupgap": 0
        },
        "template": {
         "data": {
          "bar": [
           {
            "error_x": {
             "color": "#2a3f5f"
            },
            "error_y": {
             "color": "#2a3f5f"
            },
            "marker": {
             "line": {
              "color": "#E5ECF6",
              "width": 0.5
             },
             "pattern": {
              "fillmode": "overlay",
              "size": 10,
              "solidity": 0.2
             }
            },
            "type": "bar"
           }
          ],
          "barpolar": [
           {
            "marker": {
             "line": {
              "color": "#E5ECF6",
              "width": 0.5
             },
             "pattern": {
              "fillmode": "overlay",
              "size": 10,
              "solidity": 0.2
             }
            },
            "type": "barpolar"
           }
          ],
          "carpet": [
           {
            "aaxis": {
             "endlinecolor": "#2a3f5f",
             "gridcolor": "white",
             "linecolor": "white",
             "minorgridcolor": "white",
             "startlinecolor": "#2a3f5f"
            },
            "baxis": {
             "endlinecolor": "#2a3f5f",
             "gridcolor": "white",
             "linecolor": "white",
             "minorgridcolor": "white",
             "startlinecolor": "#2a3f5f"
            },
            "type": "carpet"
           }
          ],
          "choropleth": [
           {
            "colorbar": {
             "outlinewidth": 0,
             "ticks": ""
            },
            "type": "choropleth"
           }
          ],
          "contour": [
           {
            "colorbar": {
             "outlinewidth": 0,
             "ticks": ""
            },
            "colorscale": [
             [
              0,
              "#0d0887"
             ],
             [
              0.1111111111111111,
              "#46039f"
             ],
             [
              0.2222222222222222,
              "#7201a8"
             ],
             [
              0.3333333333333333,
              "#9c179e"
             ],
             [
              0.4444444444444444,
              "#bd3786"
             ],
             [
              0.5555555555555556,
              "#d8576b"
             ],
             [
              0.6666666666666666,
              "#ed7953"
             ],
             [
              0.7777777777777778,
              "#fb9f3a"
             ],
             [
              0.8888888888888888,
              "#fdca26"
             ],
             [
              1,
              "#f0f921"
             ]
            ],
            "type": "contour"
           }
          ],
          "contourcarpet": [
           {
            "colorbar": {
             "outlinewidth": 0,
             "ticks": ""
            },
            "type": "contourcarpet"
           }
          ],
          "heatmap": [
           {
            "colorbar": {
             "outlinewidth": 0,
             "ticks": ""
            },
            "colorscale": [
             [
              0,
              "#0d0887"
             ],
             [
              0.1111111111111111,
              "#46039f"
             ],
             [
              0.2222222222222222,
              "#7201a8"
             ],
             [
              0.3333333333333333,
              "#9c179e"
             ],
             [
              0.4444444444444444,
              "#bd3786"
             ],
             [
              0.5555555555555556,
              "#d8576b"
             ],
             [
              0.6666666666666666,
              "#ed7953"
             ],
             [
              0.7777777777777778,
              "#fb9f3a"
             ],
             [
              0.8888888888888888,
              "#fdca26"
             ],
             [
              1,
              "#f0f921"
             ]
            ],
            "type": "heatmap"
           }
          ],
          "heatmapgl": [
           {
            "colorbar": {
             "outlinewidth": 0,
             "ticks": ""
            },
            "colorscale": [
             [
              0,
              "#0d0887"
             ],
             [
              0.1111111111111111,
              "#46039f"
             ],
             [
              0.2222222222222222,
              "#7201a8"
             ],
             [
              0.3333333333333333,
              "#9c179e"
             ],
             [
              0.4444444444444444,
              "#bd3786"
             ],
             [
              0.5555555555555556,
              "#d8576b"
             ],
             [
              0.6666666666666666,
              "#ed7953"
             ],
             [
              0.7777777777777778,
              "#fb9f3a"
             ],
             [
              0.8888888888888888,
              "#fdca26"
             ],
             [
              1,
              "#f0f921"
             ]
            ],
            "type": "heatmapgl"
           }
          ],
          "histogram": [
           {
            "marker": {
             "pattern": {
              "fillmode": "overlay",
              "size": 10,
              "solidity": 0.2
             }
            },
            "type": "histogram"
           }
          ],
          "histogram2d": [
           {
            "colorbar": {
             "outlinewidth": 0,
             "ticks": ""
            },
            "colorscale": [
             [
              0,
              "#0d0887"
             ],
             [
              0.1111111111111111,
              "#46039f"
             ],
             [
              0.2222222222222222,
              "#7201a8"
             ],
             [
              0.3333333333333333,
              "#9c179e"
             ],
             [
              0.4444444444444444,
              "#bd3786"
             ],
             [
              0.5555555555555556,
              "#d8576b"
             ],
             [
              0.6666666666666666,
              "#ed7953"
             ],
             [
              0.7777777777777778,
              "#fb9f3a"
             ],
             [
              0.8888888888888888,
              "#fdca26"
             ],
             [
              1,
              "#f0f921"
             ]
            ],
            "type": "histogram2d"
           }
          ],
          "histogram2dcontour": [
           {
            "colorbar": {
             "outlinewidth": 0,
             "ticks": ""
            },
            "colorscale": [
             [
              0,
              "#0d0887"
             ],
             [
              0.1111111111111111,
              "#46039f"
             ],
             [
              0.2222222222222222,
              "#7201a8"
             ],
             [
              0.3333333333333333,
              "#9c179e"
             ],
             [
              0.4444444444444444,
              "#bd3786"
             ],
             [
              0.5555555555555556,
              "#d8576b"
             ],
             [
              0.6666666666666666,
              "#ed7953"
             ],
             [
              0.7777777777777778,
              "#fb9f3a"
             ],
             [
              0.8888888888888888,
              "#fdca26"
             ],
             [
              1,
              "#f0f921"
             ]
            ],
            "type": "histogram2dcontour"
           }
          ],
          "mesh3d": [
           {
            "colorbar": {
             "outlinewidth": 0,
             "ticks": ""
            },
            "type": "mesh3d"
           }
          ],
          "parcoords": [
           {
            "line": {
             "colorbar": {
              "outlinewidth": 0,
              "ticks": ""
             }
            },
            "type": "parcoords"
           }
          ],
          "pie": [
           {
            "automargin": true,
            "type": "pie"
           }
          ],
          "scatter": [
           {
            "fillpattern": {
             "fillmode": "overlay",
             "size": 10,
             "solidity": 0.2
            },
            "type": "scatter"
           }
          ],
          "scatter3d": [
           {
            "line": {
             "colorbar": {
              "outlinewidth": 0,
              "ticks": ""
             }
            },
            "marker": {
             "colorbar": {
              "outlinewidth": 0,
              "ticks": ""
             }
            },
            "type": "scatter3d"
           }
          ],
          "scattercarpet": [
           {
            "marker": {
             "colorbar": {
              "outlinewidth": 0,
              "ticks": ""
             }
            },
            "type": "scattercarpet"
           }
          ],
          "scattergeo": [
           {
            "marker": {
             "colorbar": {
              "outlinewidth": 0,
              "ticks": ""
             }
            },
            "type": "scattergeo"
           }
          ],
          "scattergl": [
           {
            "marker": {
             "colorbar": {
              "outlinewidth": 0,
              "ticks": ""
             }
            },
            "type": "scattergl"
           }
          ],
          "scattermapbox": [
           {
            "marker": {
             "colorbar": {
              "outlinewidth": 0,
              "ticks": ""
             }
            },
            "type": "scattermapbox"
           }
          ],
          "scatterpolar": [
           {
            "marker": {
             "colorbar": {
              "outlinewidth": 0,
              "ticks": ""
             }
            },
            "type": "scatterpolar"
           }
          ],
          "scatterpolargl": [
           {
            "marker": {
             "colorbar": {
              "outlinewidth": 0,
              "ticks": ""
             }
            },
            "type": "scatterpolargl"
           }
          ],
          "scatterternary": [
           {
            "marker": {
             "colorbar": {
              "outlinewidth": 0,
              "ticks": ""
             }
            },
            "type": "scatterternary"
           }
          ],
          "surface": [
           {
            "colorbar": {
             "outlinewidth": 0,
             "ticks": ""
            },
            "colorscale": [
             [
              0,
              "#0d0887"
             ],
             [
              0.1111111111111111,
              "#46039f"
             ],
             [
              0.2222222222222222,
              "#7201a8"
             ],
             [
              0.3333333333333333,
              "#9c179e"
             ],
             [
              0.4444444444444444,
              "#bd3786"
             ],
             [
              0.5555555555555556,
              "#d8576b"
             ],
             [
              0.6666666666666666,
              "#ed7953"
             ],
             [
              0.7777777777777778,
              "#fb9f3a"
             ],
             [
              0.8888888888888888,
              "#fdca26"
             ],
             [
              1,
              "#f0f921"
             ]
            ],
            "type": "surface"
           }
          ],
          "table": [
           {
            "cells": {
             "fill": {
              "color": "#EBF0F8"
             },
             "line": {
              "color": "white"
             }
            },
            "header": {
             "fill": {
              "color": "#C8D4E3"
             },
             "line": {
              "color": "white"
             }
            },
            "type": "table"
           }
          ]
         },
         "layout": {
          "annotationdefaults": {
           "arrowcolor": "#2a3f5f",
           "arrowhead": 0,
           "arrowwidth": 1
          },
          "autotypenumbers": "strict",
          "coloraxis": {
           "colorbar": {
            "outlinewidth": 0,
            "ticks": ""
           }
          },
          "colorscale": {
           "diverging": [
            [
             0,
             "#8e0152"
            ],
            [
             0.1,
             "#c51b7d"
            ],
            [
             0.2,
             "#de77ae"
            ],
            [
             0.3,
             "#f1b6da"
            ],
            [
             0.4,
             "#fde0ef"
            ],
            [
             0.5,
             "#f7f7f7"
            ],
            [
             0.6,
             "#e6f5d0"
            ],
            [
             0.7,
             "#b8e186"
            ],
            [
             0.8,
             "#7fbc41"
            ],
            [
             0.9,
             "#4d9221"
            ],
            [
             1,
             "#276419"
            ]
           ],
           "sequential": [
            [
             0,
             "#0d0887"
            ],
            [
             0.1111111111111111,
             "#46039f"
            ],
            [
             0.2222222222222222,
             "#7201a8"
            ],
            [
             0.3333333333333333,
             "#9c179e"
            ],
            [
             0.4444444444444444,
             "#bd3786"
            ],
            [
             0.5555555555555556,
             "#d8576b"
            ],
            [
             0.6666666666666666,
             "#ed7953"
            ],
            [
             0.7777777777777778,
             "#fb9f3a"
            ],
            [
             0.8888888888888888,
             "#fdca26"
            ],
            [
             1,
             "#f0f921"
            ]
           ],
           "sequentialminus": [
            [
             0,
             "#0d0887"
            ],
            [
             0.1111111111111111,
             "#46039f"
            ],
            [
             0.2222222222222222,
             "#7201a8"
            ],
            [
             0.3333333333333333,
             "#9c179e"
            ],
            [
             0.4444444444444444,
             "#bd3786"
            ],
            [
             0.5555555555555556,
             "#d8576b"
            ],
            [
             0.6666666666666666,
             "#ed7953"
            ],
            [
             0.7777777777777778,
             "#fb9f3a"
            ],
            [
             0.8888888888888888,
             "#fdca26"
            ],
            [
             1,
             "#f0f921"
            ]
           ]
          },
          "colorway": [
           "#636efa",
           "#EF553B",
           "#00cc96",
           "#ab63fa",
           "#FFA15A",
           "#19d3f3",
           "#FF6692",
           "#B6E880",
           "#FF97FF",
           "#FECB52"
          ],
          "font": {
           "color": "#2a3f5f"
          },
          "geo": {
           "bgcolor": "white",
           "lakecolor": "white",
           "landcolor": "#E5ECF6",
           "showlakes": true,
           "showland": true,
           "subunitcolor": "white"
          },
          "hoverlabel": {
           "align": "left"
          },
          "hovermode": "closest",
          "mapbox": {
           "style": "light"
          },
          "paper_bgcolor": "white",
          "plot_bgcolor": "#E5ECF6",
          "polar": {
           "angularaxis": {
            "gridcolor": "white",
            "linecolor": "white",
            "ticks": ""
           },
           "bgcolor": "#E5ECF6",
           "radialaxis": {
            "gridcolor": "white",
            "linecolor": "white",
            "ticks": ""
           }
          },
          "scene": {
           "xaxis": {
            "backgroundcolor": "#E5ECF6",
            "gridcolor": "white",
            "gridwidth": 2,
            "linecolor": "white",
            "showbackground": true,
            "ticks": "",
            "zerolinecolor": "white"
           },
           "yaxis": {
            "backgroundcolor": "#E5ECF6",
            "gridcolor": "white",
            "gridwidth": 2,
            "linecolor": "white",
            "showbackground": true,
            "ticks": "",
            "zerolinecolor": "white"
           },
           "zaxis": {
            "backgroundcolor": "#E5ECF6",
            "gridcolor": "white",
            "gridwidth": 2,
            "linecolor": "white",
            "showbackground": true,
            "ticks": "",
            "zerolinecolor": "white"
           }
          },
          "shapedefaults": {
           "line": {
            "color": "#2a3f5f"
           }
          },
          "ternary": {
           "aaxis": {
            "gridcolor": "white",
            "linecolor": "white",
            "ticks": ""
           },
           "baxis": {
            "gridcolor": "white",
            "linecolor": "white",
            "ticks": ""
           },
           "bgcolor": "#E5ECF6",
           "caxis": {
            "gridcolor": "white",
            "linecolor": "white",
            "ticks": ""
           }
          },
          "title": {
           "x": 0.05
          },
          "xaxis": {
           "automargin": true,
           "gridcolor": "white",
           "linecolor": "white",
           "ticks": "",
           "title": {
            "standoff": 15
           },
           "zerolinecolor": "white",
           "zerolinewidth": 2
          },
          "yaxis": {
           "automargin": true,
           "gridcolor": "white",
           "linecolor": "white",
           "ticks": "",
           "title": {
            "standoff": 15
           },
           "zerolinecolor": "white",
           "zerolinewidth": 2
          }
         }
        },
        "title": {
         "text": "Histogram of IMDB Score"
        },
        "xaxis": {
         "anchor": "y",
         "domain": [
          0,
          1
         ],
         "title": {
          "text": "IMDB Score"
         }
        },
        "yaxis": {
         "anchor": "x",
         "domain": [
          0,
          1
         ],
         "title": {
          "text": "count"
         }
        }
       }
      }
     },
     "metadata": {},
     "output_type": "display_data"
    }
   ],
   "source": [
    "fig = px.histogram(df, x='IMDB Score', title='Histogram of IMDB Score')\n",
    "fig.show()"
   ]
  },
  {
   "cell_type": "code",
   "execution_count": 47,
   "metadata": {},
   "outputs": [
    {
     "data": {
      "application/vnd.plotly.v1+json": {
       "config": {
        "plotlyServerURL": "https://plot.ly"
       },
       "data": [
        {
         "alignmentgroup": "True",
         "bingroup": "x",
         "hovertemplate": "Runtime=%{x}<br>count=%{y}<extra></extra>",
         "legendgroup": "",
         "marker": {
          "color": "#636efa",
          "pattern": {
           "shape": ""
          }
         },
         "name": "",
         "offsetgroup": "",
         "orientation": "v",
         "showlegend": false,
         "type": "histogram",
         "x": [
          99,
          100,
          36,
          124,
          102,
          144,
          95,
          75,
          128,
          76,
          28,
          98,
          107,
          92,
          85,
          92,
          120,
          101,
          92,
          19,
          82,
          30,
          56,
          97,
          104,
          37,
          25,
          96,
          142,
          108,
          99,
          42,
          101,
          121,
          39,
          108,
          93,
          74,
          102,
          92,
          96,
          110,
          10,
          82,
          90,
          94,
          30,
          47,
          15,
          60,
          129,
          97,
          92,
          148,
          88,
          104,
          98,
          83,
          86,
          92,
          108,
          104,
          136,
          110,
          89,
          100,
          106,
          85,
          87,
          82,
          100,
          97,
          86,
          124,
          37,
          79,
          106,
          95,
          89,
          95,
          76,
          117,
          94,
          102,
          86,
          101,
          94,
          92,
          9,
          104,
          80,
          99,
          21,
          89,
          114,
          100,
          106,
          104,
          92,
          151,
          74,
          98,
          104,
          88,
          97,
          106,
          112,
          111,
          7,
          91,
          89,
          102,
          101,
          108,
          114,
          155,
          102,
          80,
          51,
          97,
          81,
          83,
          94,
          100,
          70,
          94,
          49,
          106,
          78,
          90,
          107,
          118,
          120,
          55,
          98,
          103,
          147,
          97,
          80,
          107,
          89,
          121,
          73,
          98,
          118,
          89,
          40,
          58,
          123,
          96,
          95,
          117,
          24,
          97,
          89,
          94,
          100,
          89,
          107,
          86,
          106,
          123,
          105,
          39,
          112,
          102,
          136,
          104,
          100,
          32,
          92,
          97,
          100,
          101,
          105,
          103,
          101,
          97,
          94,
          117,
          144,
          21,
          96,
          125,
          70,
          90,
          89,
          97,
          94,
          119,
          112,
          81,
          78,
          85,
          114,
          64,
          39,
          90,
          117,
          93,
          125,
          104,
          85,
          94,
          137,
          80,
          104,
          84,
          104,
          113,
          103,
          107,
          98,
          89,
          96,
          79,
          105,
          14,
          134,
          94,
          90,
          120,
          12,
          87,
          115,
          101,
          107,
          116,
          71,
          95,
          96,
          113,
          126,
          94,
          119,
          98,
          70,
          16,
          78,
          90,
          90,
          101,
          97,
          90,
          90,
          81,
          63,
          109,
          97,
          87,
          92,
          39,
          100,
          119,
          92,
          112,
          40,
          103,
          94,
          94,
          19,
          105,
          40,
          28,
          64,
          92,
          95,
          91,
          86,
          133,
          100,
          91,
          106,
          149,
          120,
          94,
          31,
          112,
          106,
          132,
          136,
          95,
          111,
          79,
          90,
          54,
          98,
          85,
          98,
          104,
          111,
          106,
          96,
          97,
          97,
          101,
          126,
          91,
          85,
          81,
          72,
          96,
          98,
          132,
          91,
          103,
          95,
          83,
          23,
          72,
          47,
          139,
          121,
          106,
          100,
          95,
          85,
          90,
          96,
          99,
          100,
          103,
          34,
          121,
          114,
          95,
          101,
          89,
          114,
          97,
          73,
          106,
          83,
          89,
          108,
          26,
          126,
          86,
          118,
          46,
          44,
          91,
          124,
          113,
          124,
          149,
          118,
          31,
          85,
          123,
          100,
          89,
          86,
          48,
          64,
          84,
          70,
          64,
          58,
          58,
          57,
          27,
          99,
          105,
          142,
          98,
          94,
          106,
          72,
          45,
          52,
          116,
          144,
          135,
          41,
          117,
          98,
          113,
          131,
          49,
          139,
          73,
          58,
          89,
          97,
          114,
          87,
          95,
          80,
          118,
          114,
          107,
          105,
          99,
          99,
          83,
          87,
          86,
          97,
          105,
          15,
          79,
          95,
          4,
          92,
          101,
          97,
          136,
          100,
          108,
          83,
          111,
          153,
          102,
          108,
          60,
          96,
          112,
          107,
          105,
          96,
          41,
          80,
          87,
          102,
          111,
          97,
          125,
          90,
          85,
          114,
          124,
          89,
          98,
          114,
          79,
          85,
          102,
          132,
          99,
          93,
          118,
          100,
          121,
          28,
          112,
          104,
          115,
          17,
          96,
          102,
          99,
          93,
          105,
          83,
          138,
          112,
          108,
          129,
          102,
          108,
          121,
          151,
          97,
          120,
          114,
          105,
          101,
          131,
          95,
          83,
          209,
          23,
          112,
          99,
          140,
          105,
          131,
          92,
          98,
          90,
          149,
          98,
          107,
          115,
          98,
          83,
          87,
          95,
          30,
          87,
          101,
          97,
          112,
          118,
          53,
          99,
          102,
          92,
          121,
          103,
          124,
          94,
          83,
          122,
          120,
          94,
          94,
          89,
          90,
          88,
          95,
          101,
          97,
          132,
          104,
          130,
          119,
          13,
          108,
          103,
          94,
          40,
          109,
          23,
          130,
          125,
          116,
          40,
          125,
          90,
          100,
          90,
          98,
          121,
          105,
          80,
          91,
          134,
          99,
          109,
          102,
          95,
          107,
          98,
          116,
          83,
          85,
          95,
          125,
          98,
          116,
          108,
          103,
          101,
          92,
          96,
          112,
          86,
          112,
          95,
          99,
          122,
          86,
          100,
          17,
          102,
          84,
          93,
          32,
          82,
          97,
          97,
          93,
          83,
          88,
          103,
          91,
          93,
          92,
          117,
          86,
          111,
          11
         ],
         "xaxis": "x",
         "yaxis": "y"
        }
       ],
       "layout": {
        "barmode": "relative",
        "legend": {
         "tracegroupgap": 0
        },
        "template": {
         "data": {
          "bar": [
           {
            "error_x": {
             "color": "#2a3f5f"
            },
            "error_y": {
             "color": "#2a3f5f"
            },
            "marker": {
             "line": {
              "color": "#E5ECF6",
              "width": 0.5
             },
             "pattern": {
              "fillmode": "overlay",
              "size": 10,
              "solidity": 0.2
             }
            },
            "type": "bar"
           }
          ],
          "barpolar": [
           {
            "marker": {
             "line": {
              "color": "#E5ECF6",
              "width": 0.5
             },
             "pattern": {
              "fillmode": "overlay",
              "size": 10,
              "solidity": 0.2
             }
            },
            "type": "barpolar"
           }
          ],
          "carpet": [
           {
            "aaxis": {
             "endlinecolor": "#2a3f5f",
             "gridcolor": "white",
             "linecolor": "white",
             "minorgridcolor": "white",
             "startlinecolor": "#2a3f5f"
            },
            "baxis": {
             "endlinecolor": "#2a3f5f",
             "gridcolor": "white",
             "linecolor": "white",
             "minorgridcolor": "white",
             "startlinecolor": "#2a3f5f"
            },
            "type": "carpet"
           }
          ],
          "choropleth": [
           {
            "colorbar": {
             "outlinewidth": 0,
             "ticks": ""
            },
            "type": "choropleth"
           }
          ],
          "contour": [
           {
            "colorbar": {
             "outlinewidth": 0,
             "ticks": ""
            },
            "colorscale": [
             [
              0,
              "#0d0887"
             ],
             [
              0.1111111111111111,
              "#46039f"
             ],
             [
              0.2222222222222222,
              "#7201a8"
             ],
             [
              0.3333333333333333,
              "#9c179e"
             ],
             [
              0.4444444444444444,
              "#bd3786"
             ],
             [
              0.5555555555555556,
              "#d8576b"
             ],
             [
              0.6666666666666666,
              "#ed7953"
             ],
             [
              0.7777777777777778,
              "#fb9f3a"
             ],
             [
              0.8888888888888888,
              "#fdca26"
             ],
             [
              1,
              "#f0f921"
             ]
            ],
            "type": "contour"
           }
          ],
          "contourcarpet": [
           {
            "colorbar": {
             "outlinewidth": 0,
             "ticks": ""
            },
            "type": "contourcarpet"
           }
          ],
          "heatmap": [
           {
            "colorbar": {
             "outlinewidth": 0,
             "ticks": ""
            },
            "colorscale": [
             [
              0,
              "#0d0887"
             ],
             [
              0.1111111111111111,
              "#46039f"
             ],
             [
              0.2222222222222222,
              "#7201a8"
             ],
             [
              0.3333333333333333,
              "#9c179e"
             ],
             [
              0.4444444444444444,
              "#bd3786"
             ],
             [
              0.5555555555555556,
              "#d8576b"
             ],
             [
              0.6666666666666666,
              "#ed7953"
             ],
             [
              0.7777777777777778,
              "#fb9f3a"
             ],
             [
              0.8888888888888888,
              "#fdca26"
             ],
             [
              1,
              "#f0f921"
             ]
            ],
            "type": "heatmap"
           }
          ],
          "heatmapgl": [
           {
            "colorbar": {
             "outlinewidth": 0,
             "ticks": ""
            },
            "colorscale": [
             [
              0,
              "#0d0887"
             ],
             [
              0.1111111111111111,
              "#46039f"
             ],
             [
              0.2222222222222222,
              "#7201a8"
             ],
             [
              0.3333333333333333,
              "#9c179e"
             ],
             [
              0.4444444444444444,
              "#bd3786"
             ],
             [
              0.5555555555555556,
              "#d8576b"
             ],
             [
              0.6666666666666666,
              "#ed7953"
             ],
             [
              0.7777777777777778,
              "#fb9f3a"
             ],
             [
              0.8888888888888888,
              "#fdca26"
             ],
             [
              1,
              "#f0f921"
             ]
            ],
            "type": "heatmapgl"
           }
          ],
          "histogram": [
           {
            "marker": {
             "pattern": {
              "fillmode": "overlay",
              "size": 10,
              "solidity": 0.2
             }
            },
            "type": "histogram"
           }
          ],
          "histogram2d": [
           {
            "colorbar": {
             "outlinewidth": 0,
             "ticks": ""
            },
            "colorscale": [
             [
              0,
              "#0d0887"
             ],
             [
              0.1111111111111111,
              "#46039f"
             ],
             [
              0.2222222222222222,
              "#7201a8"
             ],
             [
              0.3333333333333333,
              "#9c179e"
             ],
             [
              0.4444444444444444,
              "#bd3786"
             ],
             [
              0.5555555555555556,
              "#d8576b"
             ],
             [
              0.6666666666666666,
              "#ed7953"
             ],
             [
              0.7777777777777778,
              "#fb9f3a"
             ],
             [
              0.8888888888888888,
              "#fdca26"
             ],
             [
              1,
              "#f0f921"
             ]
            ],
            "type": "histogram2d"
           }
          ],
          "histogram2dcontour": [
           {
            "colorbar": {
             "outlinewidth": 0,
             "ticks": ""
            },
            "colorscale": [
             [
              0,
              "#0d0887"
             ],
             [
              0.1111111111111111,
              "#46039f"
             ],
             [
              0.2222222222222222,
              "#7201a8"
             ],
             [
              0.3333333333333333,
              "#9c179e"
             ],
             [
              0.4444444444444444,
              "#bd3786"
             ],
             [
              0.5555555555555556,
              "#d8576b"
             ],
             [
              0.6666666666666666,
              "#ed7953"
             ],
             [
              0.7777777777777778,
              "#fb9f3a"
             ],
             [
              0.8888888888888888,
              "#fdca26"
             ],
             [
              1,
              "#f0f921"
             ]
            ],
            "type": "histogram2dcontour"
           }
          ],
          "mesh3d": [
           {
            "colorbar": {
             "outlinewidth": 0,
             "ticks": ""
            },
            "type": "mesh3d"
           }
          ],
          "parcoords": [
           {
            "line": {
             "colorbar": {
              "outlinewidth": 0,
              "ticks": ""
             }
            },
            "type": "parcoords"
           }
          ],
          "pie": [
           {
            "automargin": true,
            "type": "pie"
           }
          ],
          "scatter": [
           {
            "fillpattern": {
             "fillmode": "overlay",
             "size": 10,
             "solidity": 0.2
            },
            "type": "scatter"
           }
          ],
          "scatter3d": [
           {
            "line": {
             "colorbar": {
              "outlinewidth": 0,
              "ticks": ""
             }
            },
            "marker": {
             "colorbar": {
              "outlinewidth": 0,
              "ticks": ""
             }
            },
            "type": "scatter3d"
           }
          ],
          "scattercarpet": [
           {
            "marker": {
             "colorbar": {
              "outlinewidth": 0,
              "ticks": ""
             }
            },
            "type": "scattercarpet"
           }
          ],
          "scattergeo": [
           {
            "marker": {
             "colorbar": {
              "outlinewidth": 0,
              "ticks": ""
             }
            },
            "type": "scattergeo"
           }
          ],
          "scattergl": [
           {
            "marker": {
             "colorbar": {
              "outlinewidth": 0,
              "ticks": ""
             }
            },
            "type": "scattergl"
           }
          ],
          "scattermapbox": [
           {
            "marker": {
             "colorbar": {
              "outlinewidth": 0,
              "ticks": ""
             }
            },
            "type": "scattermapbox"
           }
          ],
          "scatterpolar": [
           {
            "marker": {
             "colorbar": {
              "outlinewidth": 0,
              "ticks": ""
             }
            },
            "type": "scatterpolar"
           }
          ],
          "scatterpolargl": [
           {
            "marker": {
             "colorbar": {
              "outlinewidth": 0,
              "ticks": ""
             }
            },
            "type": "scatterpolargl"
           }
          ],
          "scatterternary": [
           {
            "marker": {
             "colorbar": {
              "outlinewidth": 0,
              "ticks": ""
             }
            },
            "type": "scatterternary"
           }
          ],
          "surface": [
           {
            "colorbar": {
             "outlinewidth": 0,
             "ticks": ""
            },
            "colorscale": [
             [
              0,
              "#0d0887"
             ],
             [
              0.1111111111111111,
              "#46039f"
             ],
             [
              0.2222222222222222,
              "#7201a8"
             ],
             [
              0.3333333333333333,
              "#9c179e"
             ],
             [
              0.4444444444444444,
              "#bd3786"
             ],
             [
              0.5555555555555556,
              "#d8576b"
             ],
             [
              0.6666666666666666,
              "#ed7953"
             ],
             [
              0.7777777777777778,
              "#fb9f3a"
             ],
             [
              0.8888888888888888,
              "#fdca26"
             ],
             [
              1,
              "#f0f921"
             ]
            ],
            "type": "surface"
           }
          ],
          "table": [
           {
            "cells": {
             "fill": {
              "color": "#EBF0F8"
             },
             "line": {
              "color": "white"
             }
            },
            "header": {
             "fill": {
              "color": "#C8D4E3"
             },
             "line": {
              "color": "white"
             }
            },
            "type": "table"
           }
          ]
         },
         "layout": {
          "annotationdefaults": {
           "arrowcolor": "#2a3f5f",
           "arrowhead": 0,
           "arrowwidth": 1
          },
          "autotypenumbers": "strict",
          "coloraxis": {
           "colorbar": {
            "outlinewidth": 0,
            "ticks": ""
           }
          },
          "colorscale": {
           "diverging": [
            [
             0,
             "#8e0152"
            ],
            [
             0.1,
             "#c51b7d"
            ],
            [
             0.2,
             "#de77ae"
            ],
            [
             0.3,
             "#f1b6da"
            ],
            [
             0.4,
             "#fde0ef"
            ],
            [
             0.5,
             "#f7f7f7"
            ],
            [
             0.6,
             "#e6f5d0"
            ],
            [
             0.7,
             "#b8e186"
            ],
            [
             0.8,
             "#7fbc41"
            ],
            [
             0.9,
             "#4d9221"
            ],
            [
             1,
             "#276419"
            ]
           ],
           "sequential": [
            [
             0,
             "#0d0887"
            ],
            [
             0.1111111111111111,
             "#46039f"
            ],
            [
             0.2222222222222222,
             "#7201a8"
            ],
            [
             0.3333333333333333,
             "#9c179e"
            ],
            [
             0.4444444444444444,
             "#bd3786"
            ],
            [
             0.5555555555555556,
             "#d8576b"
            ],
            [
             0.6666666666666666,
             "#ed7953"
            ],
            [
             0.7777777777777778,
             "#fb9f3a"
            ],
            [
             0.8888888888888888,
             "#fdca26"
            ],
            [
             1,
             "#f0f921"
            ]
           ],
           "sequentialminus": [
            [
             0,
             "#0d0887"
            ],
            [
             0.1111111111111111,
             "#46039f"
            ],
            [
             0.2222222222222222,
             "#7201a8"
            ],
            [
             0.3333333333333333,
             "#9c179e"
            ],
            [
             0.4444444444444444,
             "#bd3786"
            ],
            [
             0.5555555555555556,
             "#d8576b"
            ],
            [
             0.6666666666666666,
             "#ed7953"
            ],
            [
             0.7777777777777778,
             "#fb9f3a"
            ],
            [
             0.8888888888888888,
             "#fdca26"
            ],
            [
             1,
             "#f0f921"
            ]
           ]
          },
          "colorway": [
           "#636efa",
           "#EF553B",
           "#00cc96",
           "#ab63fa",
           "#FFA15A",
           "#19d3f3",
           "#FF6692",
           "#B6E880",
           "#FF97FF",
           "#FECB52"
          ],
          "font": {
           "color": "#2a3f5f"
          },
          "geo": {
           "bgcolor": "white",
           "lakecolor": "white",
           "landcolor": "#E5ECF6",
           "showlakes": true,
           "showland": true,
           "subunitcolor": "white"
          },
          "hoverlabel": {
           "align": "left"
          },
          "hovermode": "closest",
          "mapbox": {
           "style": "light"
          },
          "paper_bgcolor": "white",
          "plot_bgcolor": "#E5ECF6",
          "polar": {
           "angularaxis": {
            "gridcolor": "white",
            "linecolor": "white",
            "ticks": ""
           },
           "bgcolor": "#E5ECF6",
           "radialaxis": {
            "gridcolor": "white",
            "linecolor": "white",
            "ticks": ""
           }
          },
          "scene": {
           "xaxis": {
            "backgroundcolor": "#E5ECF6",
            "gridcolor": "white",
            "gridwidth": 2,
            "linecolor": "white",
            "showbackground": true,
            "ticks": "",
            "zerolinecolor": "white"
           },
           "yaxis": {
            "backgroundcolor": "#E5ECF6",
            "gridcolor": "white",
            "gridwidth": 2,
            "linecolor": "white",
            "showbackground": true,
            "ticks": "",
            "zerolinecolor": "white"
           },
           "zaxis": {
            "backgroundcolor": "#E5ECF6",
            "gridcolor": "white",
            "gridwidth": 2,
            "linecolor": "white",
            "showbackground": true,
            "ticks": "",
            "zerolinecolor": "white"
           }
          },
          "shapedefaults": {
           "line": {
            "color": "#2a3f5f"
           }
          },
          "ternary": {
           "aaxis": {
            "gridcolor": "white",
            "linecolor": "white",
            "ticks": ""
           },
           "baxis": {
            "gridcolor": "white",
            "linecolor": "white",
            "ticks": ""
           },
           "bgcolor": "#E5ECF6",
           "caxis": {
            "gridcolor": "white",
            "linecolor": "white",
            "ticks": ""
           }
          },
          "title": {
           "x": 0.05
          },
          "xaxis": {
           "automargin": true,
           "gridcolor": "white",
           "linecolor": "white",
           "ticks": "",
           "title": {
            "standoff": 15
           },
           "zerolinecolor": "white",
           "zerolinewidth": 2
          },
          "yaxis": {
           "automargin": true,
           "gridcolor": "white",
           "linecolor": "white",
           "ticks": "",
           "title": {
            "standoff": 15
           },
           "zerolinecolor": "white",
           "zerolinewidth": 2
          }
         }
        },
        "title": {
         "text": "Histogram of Runtime"
        },
        "xaxis": {
         "anchor": "y",
         "domain": [
          0,
          1
         ],
         "title": {
          "text": "Runtime"
         }
        },
        "yaxis": {
         "anchor": "x",
         "domain": [
          0,
          1
         ],
         "title": {
          "text": "count"
         }
        }
       }
      }
     },
     "metadata": {},
     "output_type": "display_data"
    }
   ],
   "source": [
    "fig = px.histogram(df, x='Runtime', title='Histogram of Runtime')\n",
    "fig.show()"
   ]
  },
  {
   "attachments": {},
   "cell_type": "markdown",
   "metadata": {},
   "source": [
    "Palette warna Netflix"
   ]
  },
  {
   "cell_type": "code",
   "execution_count": 41,
   "metadata": {},
   "outputs": [
    {
     "data": {
      "image/png": "[encoded data removed]",
      "text/plain": [
       "<Figure size 400x100 with 1 Axes>"
      ]
     },
     "metadata": {},
     "output_type": "display_data"
    }
   ],
   "source": [
    "palette = sns.palplot(['#221f1f', '#b20710', '#e50914','#f5f5f1'])\n",
    "\n",
    "plt.title(\"Netflix brand palette \",loc='left',fontfamily='serif',fontsize=15,y=1.2)\n",
    "plt.show()"
   ]
  },
  {
   "cell_type": "code",
   "execution_count": 49,
   "metadata": {},
   "outputs": [
    {
     "data": {
      "application/vnd.plotly.v1+json": {
       "config": {
        "plotlyServerURL": "https://plot.ly"
       },
       "data": [
        {
         "hovertemplate": "<b>%{hovertext}</b><br><br>Runtime=%{x}<br>IMDB Score=%{marker.color}<extra></extra>",
         "hovertext": [
          "#REALITYHIGH",
          "13th",
          "13th: A Conversation with Oprah Winfrey & Ava DuVernay",
          "15 August",
          "1922",
          "22 July",
          "5 Star Christmas",
          "6 Balloons",
          "6 Underground",
          "7 años",
          "A 3 Minute Hug",
          "A Babysitter's Guide to Monster Hunting",
          "A California Christmas",
          "A Christmas Prince",
          "A Christmas Prince: The Royal Baby",
          "A Christmas Prince: The Royal Wedding",
          "A Fall from Grace",
          "A Futile and Stupid Gesture",
          "A Life of Speed: The Juan Manuel Fangio Story",
          "A Love Song for Latasha",
          "A Secret Love",
          "A Tale of Two Kitchens",
          "A Very Murray Christmas",
          "A Week Away",
          "A Whisker Away",
          "After Maria",
          "After the Raid",
          "Airplane Mode",
          "Ajeeb Daastaans",
          "AK vs AK",
          "Alex Strangelove",
          "Alien Xmas",
          "All Because of You",
          "All Day and a Night",
          "All in My Family",
          "All the Bright Places",
          "All Together Now",
          "Altered Carbon: Resleeved",
          "Always Be My Maybe",
          "Amanda Knox",
          "Amateur",
          "American Factory",
          "American Factory: A Conversation with the Obamas ",
          "American Murder: The Family Next Door",
          "American Son",
          "Anelka: Misunderstood",
          "Angela's Christmas",
          "Angela's Christmas Wish",
          "Anima",
          "Antoine Griezmann: The Making of a Legend",
          "Apostle",
          "Ariana Grande: Excuse Me, I Love You",
          "Arlo the Alligator Boy",
          "Army of the Dead",
          "ARQ",
          "Athlete A",
          "Audrie & Daisy",
          "Back to School",
          "Bad Trip",
          "Baggio: The Divine Ponytail",
          "Barbra: The Music, The Mem'ries, The Magic!",
          "Barry",
          "Beasts of No Nation",
          "Beats",
          "Becoming",
          "Been So Long",
          "Below Zero",
          "Ben Platt: Live from Radio City Music Hall",
          "Benji",
          "Between Two Ferns: The Movie",
          "Bigflo & Oil: Hip Hop Frenzy",
          "Biggie: I Got a Story to Tell",
          "Bikram: Yogi, Guru, Predator",
          "Bird Box",
          "Birders",
          "Blackpink: Light Up the Sky",
          "Blame!",
          "Blue Miracle",
          "Bomb Scared",
          "Brahman Naman",
          "Brene Brown: The Call to Courage",
          "Bright",
          "Bulbbul",
          "Burning Sands",
          "Cadaver",
          "Calibre",
          "Cam",
          "Candy Jar",
          "Canvas ",
          "Cargo",
          "Casting JonBenet",
          "Caught by a Wave",
          "Chadwick Boseman: Portrait of an Artist",
          "Chasing Coral ",
          "Choked: Paisa Bolta Hai",
          "Chopsticks",
          "Christmas Crossfire",
          "Christmas Inheritance",
          "Circus of Books",
          "Citation",
          "City of Joy",
          "Class of '83",
          "Clinical",
          "Coffee & Kareem",
          "Coin Heist",
          "Come Sunday",
          "Como Caído del Cielo",
          "Concrete Cowboy",
          "Cops and Robbers",
          "CounterPunch ",
          "Crack: Cocaine, Corruption & Conspiracy",
          "Crazy About Her",
          "Crazy Awesome Teachers",
          "Crip Camp: A Disability Revolution",
          "Cuba and the Cameraman ",
          "Da 5 Bloods",
          "Dad Wanted",
          "Dance Dreams: Hot Chocolate Nutcracker",
          "Dancing with the Birds",
          "Dangerous Lies",
          "Dark Forces",
          "David Attenborough: A Life on Our Planet",
          "Dead Kids",
          "Death Note",
          "Death to 2020",
          "Deidra & Laney Rob a Train",
          "Derren Brown: Sacrifice",
          "Desperados",
          "Despite Everything",
          "Dick Johnson Is Dead",
          "Disclosure: Trans Lives on Screen",
          "Dolemite Is My Name",
          "Dolly Kitty and Those Twinkling Stars",
          "Dolly Parton: A MusiCares Tribute",
          "Dolly Parton's Christmas on the Square",
          "Double Dad",
          "Drive",
          "Dude",
          "Earth and Blood",
          "Earthquake Bird",
          "El Camino Christmas",
          "El Camino: A Breaking Bad Movie",
          "El Pepe: A Supreme Life",
          "Eli",
          "Elisa & Marcela",
          "Emicida: AmarElo - It's All For Yesterday",
          "End Game",
          "Enter the Anime",
          "Eurovision Song Contest: The Story of Fire Saga",
          "Evelyn",
          "Extinction",
          "Extraction",
          "Extremis",
          "Falling Inn Love",
          "Fatal Affair",
          "Father of the Year",
          "Father Soldier Son",
          "Fearless",
          "Feel the Beat",
          "Feminists: What Were They Thinking?",
          "Ferry",
          "Finding 'Ohana",
          "Finding Agnes",
          "Fire in Paradise",
          "Firebrand",
          "First Match",
          "First They Killed My Father",
          "Forgive Us Our Debts",
          "Fractured",
          "Frankenstein's Monster's Monster, Frankenstein",
          "Freaks: You're One of Us",
          "Fyre: The Greatest Party That Never Happened",
          "Gaga: Five Foot Two",
          "Game Over, Man!",
          "Geez & Ann",
          "Gerald's Game",
          "Get Me Roger Stone",
          "Get the Goat",
          "Get the Grift",
          "Ghost Lab",
          "Ghost Stories",
          "Ghosts of Sugar Land",
          "GIMS: On the Record",
          "Ginny Weds Sunny",
          "Girlfriend's Day",
          "Giving Voice",
          "Good Sam",
          "Grass Is Greener",
          "Guillermo Vilas: Settling the Score",
          "Guilty",
          "Gunjan Saxena: The Kargil Girl",
          "Handsome: A Netflix Mystery Movie",
          "Happy Anniversary",
          "Have a Good Trip: Adventures in Psychedelics",
          "Have You Ever Seen Fireflies?",
          "Hello Privilege. It's Me, Chelsea",
          "Heroin(e) ",
          "High Flying Bird",
          "Hillbilly Elegy",
          "His House",
          "Hold the Dark",
          "Holidate",
          "Holiday in the Wild",
          "Holiday Rush",
          "Homecoming: A Film by Beyonce ",
          "Hope Frozen: A Quest to Live Twice",
          "Horse Girl",
          "Hot Girls Wanted",
          "House Arrest",
          "How It Ends",
          "Hubie Halloween",
          "I Am All Girls",
          "I Am Not an Easy Man",
          "I Am the Pretty Thing That Lives in the House",
          "I Don't Feel at Home in This World Anymore",
          "I'll Sleep When I'm Dead",
          "I'm No Longer Here",
          "I'm No Longer Here: A Discussion with Guillermo del Toro and Alfonso Cuaron",
          "I'm Thinking of Ending Things",
          "Ibiza",
          "iBoy",
          "Icarus",
          "If Anything Happens I Love You",
          "Imperial Dreams",
          "In the Shadow of the Moon",
          "In the Tall Grass",
          "Into the Inferno",
          "Intuition",
          "Invader Zim: Enter the Florpus",
          "IO",
          "Irreplaceable You",
          "Isi & Ossi",
          "It Takes a Lunatic",
          "Jim & Andy: The Great Beyond - Featuring a Very Special, Contractually Obligated Mention of Tony Cliffton ",
          "Jingle Jangle: A Christmas Journey",
          "Joan Didion: The Center Will Not Hold",
          "John Mulaney & the Sack Lunch Bunch",
          "John Was Trying to Contact Aliens",
          "Joshua: Teenager vs. Superpower",
          "Juanita",
          "June & Kopi",
          "Just Another Christmas",
          "Just Say Yes",
          "Justin Timberlake + The Tennessee Kids",
          "Kaali Khuhi",
          "Keith Richards: Under the Influence",
          "Kevin Hart's Guide to Black History",
          "Kingdom of Us",
          "Klaus",
          "Knock Down the House",
          "LA Originals",
          "Ladies First",
          "Laerte-se",
          "Layla Majnun",
          "Let It Snow",
          "Leyla Everlasting",
          "Life Overtakes Me",
          "Like Father",
          "Lionheart",
          "Little Evil",
          "Little Miss Sumo",
          "Long Live Brij Mohan",
          "Long Shot",
          "Lorena, Light-Footed Woman",
          "Los Tigres del Norte at Folsom Prison",
          "Lost Bullet",
          "Lost Girls",
          "Loudon Wainwright III: Surviving Twin",
          "Love Like the Falling Rain",
          "Love per Square Foot",
          "Love Wedding Repeat",
          "Love, Guaranteed",
          "Lovefucked",
          "Ludo",
          "Lust Stories",
          "Ma Rainey's Black Bottom",
          "Ma Rainey's Black Bottom: A Legacy Brought to Screen",
          "Madame Claude",
          "Malcolm & Marie",
          "Mank",
          "Marriage Story",
          "Mascots",
          "Maska",
          "Mercury 13",
          "Mercy",
          "Michael Bolton's Big, Sexy, Valentine's Day Special",
          "Milestone",
          "Miss Americana",
          "Monster",
          "Mowgli: Legend of the Jungle",
          "Moxie",
          "Mrs. Serial Killer",
          "Mucho Mucho Amor: The Legend of Walter Mercado ",
          "Murder Mystery",
          "Murder to Mercy: The Cyntoia Brown Story",
          "Music Teacher",
          "Mute",
          "My Beautiful Broken Brain",
          "My Octopus Teacher",
          "My Own Man",
          "Nail Bomber: Manhunt",
          "Naked",
          "Nappily Ever After",
          "Night in Paradise",
          "Nobody Knows I'm Here",
          "Nobody Sleeps in the Woods Tonight",
          "Nobody Speak: Trials of the Free Press",
          "Notes for My Son",
          "Notes from Dunblane: Lesson from a School Shooting",
          "Octonauts & the Caves of Sac Actun",
          "Octonauts & the Great Barrier Reef",
          "Offering to the Storm",
          "Okja",
          "Òlòt?ré",
          "On My Skin",
          "One of Us",
          "One Take",
          "One-Way to Tomorrow",
          "Operation Christmas Drop",
          "Operation Varsity Blues: The College Admissions Scandal",
          "Otherhood",
          "Our Souls at Night",
          "Out of Many, One",
          "Outlaw King",
          "Outside the Wire",
          "Over the Moon",
          "Oxygen",
          "Paddleton",
          "Pagglait",
          "Paper Lives",
          "Paradox",
          "Parchis: The Documentary",
          "Paris Is Us",
          "Pee-wee's Big Holiday",
          "Pele",
          "Period. End of Sentence.",
          "Pieces of a Woman",
          "Point Blank",
          "Polar",
          "Porta dos Fundos: The First Temptation of Christ",
          "Porta dos Fundos: The Last Hangover",
          "Prime Time",
          "Private Life",
          "Project Power",
          "Quincy",
          "Raat Akeli Hai",
          "Rajma Chawal",
          "Ram Dass, Going Home",
          "Rattlesnake",
          "Rebecca",
          "Rebirth",
          "Recovery Boys",
          "Red Dot",
          "ReMastered: Devil at the Crossroads",
          "ReMastered: Massacre at the Stadium",
          "ReMastered: The Lion's Share",
          "ReMastered: The Miami Showband Massacre",
          "ReMastered: The Two Killings of Sam Cooke",
          "ReMastered: Tricky Dick & the Man in Black",
          "ReMastered: Who Killed Jam Master Jay?",
          "ReMastered: Who Shot the Sheriff?",
          "Resurface",
          "Reversing Roe",
          "Rich in Love",
          "Ride or Die",
          "Rim of the World",
          "Rising High",
          "Rising Phoenix",
          "Road to Roma",
          "Rocko's Modern Life: Static Cling",
          "Rodney King",
          "Rogue City",
          "Rolling Thunder Revue: A bob Dylan Story by Martin Scorsere",
          "Roma",
          "Rooting for Roona",
          "Rose Island",
          "Roxanne Roxanne",
          "Sand Castle",
          "Sandy Wexler",
          "Sarah Cooper: Everything's Fine",
          "Sardar Ka Grandson",
          "Saving Capitalism",
          "Searching for Sheela",
          "Seaspiracy",
          "Secret Obsession",
          "Secrets of the Saqqara Tomb",
          "See You Yesterday",
          "Seeing Allred",
          "Sentinelle",
          "Sergio",
          "Serious Men",
          "Seriously Single",
          "Set It Up",
          "Seventeen",
          "Sextuplets",
          "Shawn Mendes: In Wonder",
          "Shawn Mendes: Live in Concert",
          "Shimmer Lake",
          "Shirkers",
          "Sierra Burgess Is a Loser",
          "Sitara: Let Girls Dream",
          "Sky Ladder: The Art of Cai Guo-Qiang",
          "Small Crimes",
          "Sol Levante",
          "Someone Great",
          "Sometimes",
          "Soni",
          "Space Sweepers",
          "Special Correspondents",
          "Spectral",
          "Spelling the Dream",
          "Spenser Confidential",
          "Springsteen on Broadway",
          "Squared Love",
          "Step Sisters",
          "Still Laugh-In: The Stars Celebrate",
          "Street Flow",
          "Strip Down, Rise Up",
          "Strong Island",
          "Struggle: The Life and Lost Art of Szukaiski",
          "Stuck Apart",
          "Sturgill Simpson Presents: Sound & Fury",
          "Take the 10",
          "Take Your Pills",
          "Tall Girl",
          "Tallulah",
          "TAU",
          "Taylor Swift: Reputation Stadium Tour",
          "Team Foxcatcher",
          "Tell Me Who I Am",
          "Tersanjung the Movie",
          "The 40-Year-Old Version",
          "The After Party",
          "The American Meme",
          "The Angel",
          "The App",
          "The Babysitter",
          "The Babysitter: Killer Queen",
          "The Ballad of Buster Scruggs",
          "The Beast",
          "The Binding",
          "The Black Godfather",
          "The Bleeding Edge",
          "The Boys in the Band",
          "The Boys in the Band: Something Personal",
          "The Call",
          "The Christmas Chronicles",
          "The Christmas Chronicles: Part Two",
          "The Claudia Kishi Club",
          "The Claus Family",
          "The Cloverfield Paradox",
          "The Crimes That Bind",
          "The Day of the Lord",
          "The Death and Life of Marsha P. Johnson",
          "The Decline",
          "The Devil All the Time",
          "The Dig",
          "The Dirt",
          "The Disciple",
          "The Discovery",
          "The Do-Over",
          "The Edge of Democracy",
          "The Forest of Love",
          "The Fundamentals of Caring",
          "The Girl on the Train",
          "The Great Hack",
          "The Half of It",
          "The Heartbreak Club",
          "The Highwaymen",
          "The Holiday Calendar",
          "The Incredible Jessica James",
          "The Irishman",
          "The Irishman: In Conversation",
          "The Ivory Game",
          "The Killer",
          "The King",
          "The Kissing Booth",
          "The Kissing Booth 2",
          "The Knight Before Christmas",
          "The Land of Steady Habits",
          "The Larva Island Movie",
          "The Last Days of American Crime",
          "The Last Laugh",
          "The Last Paradiso",
          "The Last Thing He Wanted",
          "The Laundromat",
          "The Legacy of a Whitetail Deer Hunter",
          "The Legend of Cocaine Island",
          "The Life Ahead",
          "The Lonely Island Presents: The Unauthorized Bash Brothers Experience",
          "The Lovebirds",
          "The Main Event",
          "The Mars Generation",
          "The Meyerowitz Stories (New and Selected)",
          "The Midnight Sky",
          "The Minimalists: Less Is Now",
          "The Misadventures of Hedi and Cokeman",
          "The Most Assassinated Woman in the World",
          "The Most Hated Woman in America",
          "The Night Comes for Us",
          "The Occupant",
          "The Old Guard",
          "The Open House",
          "The Other One: The Long Strange Trip of Bob Weir",
          "The Other Side of the Wind",
          "The Outsider",
          "The Package",
          "The Paramedic",
          "The Perfect Date",
          "The Perfection",
          "The Players",
          "The Polka King",
          "The Princess Switch",
          "The Princess Switch: Switched Again",
          "The Prom",
          "The Rachel Divide",
          "The Red Sea Diving Resort",
          "The Ridiculous 6",
          "The Road to El Camino: A Breaking Bad Movie",
          "The Siege of Jadotville",
          "The Sleepover",
          "The Social Dilemma",
          "The Speed Cubers",
          "The Three Deaths of Marisela Escobedo",
          "The Trader",
          "The Trial of the Chicago 7",
          "The Two Popes",
          "The Week Of",
          "The White Helmets",
          "The White Tiger",
          "The Willoughbys",
          "The Woman in the Window",
          "The Wrong Missy",
          "They'll Love Me When I'm Dead",
          "Things Heard & Seen",
          "Thunder Force",
          "Tig",
          "Tigertail",
          "Time to Hunt",
          "To All the Boys I've Loved Before",
          "To All the Boys: Always and Forever",
          "To All the Boys: P.S. I Still Love You",
          "To Each, Her Own",
          "To the Bone",
          "Tony Parker: The Final Shot",
          "Tony Robbins: I Am Not Your Guru",
          "Tramps",
          "Travis Scott: Look Mom I Can Fly",
          "Tribhanga  Tedhi Medhi Crazy",
          "Triple Frontier",
          "True Memoirs of an International Assassin",
          "Two Catalonias",
          "Ultras",
          "Uncorked",
          "Under the Riccione Sun",
          "Unicorn Store",
          "Unknown Origins",
          "Upstarts",
          "Vampires vs. the Bronx",
          "Velvet Buzzsaw",
          "Voyuer ",
          "Walk. Ride. Rodeo.",
          "War Machine",
          "We Are One",
          "We Can Be Heroes",
          "What Did Jack Do?",
          "What Happened to Mr. Cha?",
          "What Happened, Miss Simone?",
          "What We Wanted",
          "What Would Sophia Loren Do?",
          "Wheelman",
          "When We First Met",
          "Whipped",
          "Who Would You Take to a Deserted Island?",
          "Why Did You Kill Me?",
          "Win It All",
          "Wine Country",
          "Winter on Fire: Ukraine's Fight for Freedom",
          "Work It",
          "XOXO",
          "Yeh Ballet",
          "Yes Day",
          "You've Got This",
          "Zion "
         ],
         "legendgroup": "",
         "marker": {
          "color": [
           5.2,
           8.2,
           7.1,
           5.8,
           6.3,
           6.8,
           4.6,
           5.9,
           6.1,
           6.8,
           6.5,
           5.4,
           5.8,
           5.8,
           5.4,
           5.3,
           5.9,
           6.8,
           6.8,
           6.8,
           7.9,
           6.3,
           5.5,
           5.7,
           6.7,
           4.6,
           4.3,
           5,
           6.7,
           6.9,
           6.3,
           6.2,
           4.2,
           5.8,
           6.8,
           6.5,
           6.5,
           6.5,
           6.8,
           6.9,
           5.9,
           7.4,
           5.2,
           7.2,
           5.8,
           6.4,
           7.1,
           7.1,
           7.7,
           6.5,
           6.3,
           6.4,
           6.7,
           5.9,
           6.4,
           7.6,
           7.2,
           5.3,
           6.6,
           6.2,
           7.5,
           5.8,
           7.7,
           7.1,
           6.8,
           5.5,
           6.2,
           8.4,
           6.3,
           6.1,
           6.9,
           6.9,
           6.7,
           6.6,
           6.4,
           7.5,
           6.7,
           6.7,
           5.6,
           5.6,
           7.7,
           6.3,
           6.6,
           6.1,
           5.1,
           6.8,
           5.9,
           5.8,
           6.5,
           6.3,
           6.1,
           5.7,
           6.5,
           8.1,
           5.8,
           6.5,
           4.8,
           5.7,
           7.1,
           6.2,
           7.5,
           5.8,
           5.1,
           5.1,
           4.8,
           6,
           6.4,
           6.3,
           6.9,
           6.7,
           6.7,
           6.6,
           6.2,
           7.7,
           8.3,
           6.5,
           5.7,
           7.1,
           8.3,
           5.3,
           2.6,
           9,
           5.5,
           4.4,
           6.8,
           6.1,
           7.1,
           5.2,
           5.4,
           7.5,
           8.2,
           7.3,
           5.4,
           6.5,
           5.2,
           5.6,
           3.5,
           5.1,
           4.9,
           5.9,
           5.7,
           7.3,
           7.1,
           5.7,
           6.6,
           8.6,
           7.1,
           2.5,
           6.5,
           7.1,
           5.8,
           6.7,
           7.3,
           5.6,
           4.5,
           5.2,
           7.3,
           4.9,
           6.3,
           7,
           7.1,
           6.1,
           4.7,
           7.4,
           5.2,
           6.4,
           7.2,
           6,
           6.4,
           5.9,
           5.4,
           7.2,
           7,
           5.4,
           5.1,
           6.5,
           7.3,
           6.3,
           5.5,
           5.2,
           4.3,
           5.5,
           6.8,
           5.7,
           5.2,
           6.7,
           5.7,
           7.1,
           7.1,
           null,
           5.3,
           5.2,
           5.8,
           6.8,
           6.2,
           4.4,
           6.8,
           6.2,
           6.7,
           6.5,
           5.6,
           6.1,
           6.1,
           4.9,
           7.5,
           6.7,
           5.9,
           6.1,
           5.5,
           5,
           5.2,
           5.8,
           6.3,
           4.6,
           6.9,
           6.6,
           7.3,
           7,
           6.6,
           5.2,
           6,
           7.9,
           7.8,
           6.7,
           6.2,
           5.4,
           7.2,
           5.3,
           7.5,
           4.7,
           6.4,
           6.4,
           6.6,
           7.7,
           6.5,
           7.5,
           7.5,
           6.4,
           7.1,
           6,
           6.3,
           6.7,
           4.5,
           7.7,
           3.4,
           7.1,
           5.5,
           7,
           8.2,
           7.1,
           7.2,
           7.2,
           6.9,
           6.4,
           5.8,
           3.7,
           6.5,
           6.1,
           5.7,
           5.7,
           6.7,
           6.8,
           7.4,
           7,
           7,
           6.2,
           6.1,
           7.1,
           5,
           7.2,
           5.5,
           5.6,
           6,
           7.6,
           6.5,
           7,
           7,
           5.4,
           6.7,
           6.9,
           7.9,
           5.8,
           5.9,
           6.8,
           4.2,
           6.7,
           6.6,
           7.4,
           6.5,
           6.5,
           6.7,
           4.8,
           7.3,
           6,
           6.4,
           6.3,
           5.5,
           7.1,
           8.1,
           6.4,
           6.3,
           5.4,
           6.4,
           6.7,
           6.5,
           4.8,
           6.5,
           6.3,
           5.9,
           6.2,
           7.3,
           6.2,
           7.3,
           5.5,
           7.3,
           7.1,
           5.7,
           5.6,
           5.8,
           7,
           6.1,
           6.9,
           5.7,
           6.9,
           5.4,
           6.4,
           6.5,
           7.2,
           6.9,
           6.7,
           3.9,
           6.7,
           null,
           6.1,
           7,
           7.4,
           7.1,
           5.7,
           6.3,
           4.6,
           6.3,
           5.7,
           7.2,
           6,
           7.6,
           7.3,
           5.8,
           7.1,
           4.6,
           6,
           5,
           6.6,
           5.5,
           7,
           7.3,
           7,
           7,
           7.3,
           7.1,
           6.6,
           6.9,
           7,
           7.5,
           5.8,
           5.5,
           null,
           5.8,
           8.1,
           7.7,
           7,
           5.8,
           6.1,
           7.6,
           7.7,
           7.1,
           7,
           6.2,
           6.3,
           5.2,
           5.6,
           4.1,
           6.8,
           4.1,
           8.2,
           4.4,
           7.3,
           5.2,
           6.9,
           4.7,
           6.1,
           6.8,
           4.5,
           6.5,
           7.2,
           4.4,
           6.6,
           7.4,
           6.3,
           7.4,
           5.8,
           7.3,
           7.3,
           5.8,
           4.7,
           6.2,
           7.2,
           7.2,
           6.6,
           5.8,
           6.3,
           6.9,
           6.2,
           8.5,
           5,
           5.5,
           5.2,
           6.4,
           5.2,
           6.4,
           8,
           6.1,
           6.4,
           4.8,
           6.4,
           5.2,
           6.7,
           5.8,
           8.4,
           7.3,
           7.6,
           6.1,
           7.2,
           5.8,
           6.6,
           6.6,
           2.6,
           6.3,
           5.8,
           7.3,
           5.2,
           4.7,
           7.4,
           7.6,
           6.8,
           6.8,
           4.1,
           7,
           6,
           6.9,
           5.8,
           5.5,
           6.6,
           4.9,
           7.3,
           5.9,
           7.1,
           7.1,
           7,
           7.2,
           6.3,
           5.7,
           7.2,
           6.3,
           7.3,
           4.4,
           7.1,
           6.9,
           6.4,
           6.9,
           5.7,
           6.5,
           7.8,
           7.4,
           7.9,
           6.1,
           7.2,
           6,
           5.8,
           5.5,
           6.2,
           5.1,
           3.7,
           5.6,
           5.6,
           4.3,
           6.3,
           5.5,
           6.3,
           6.8,
           6.9,
           6.1,
           4.8,
           6.4,
           6.9,
           5.6,
           5.9,
           4.5,
           5.3,
           6.1,
           7,
           6.4,
           6.7,
           3.2,
           7.3,
           6.8,
           6.3,
           5.5,
           5.6,
           5.8,
           6.1,
           4.6,
           5.9,
           6,
           5.4,
           5.9,
           6.2,
           6.6,
           4.8,
           7.2,
           7.2,
           5.6,
           7.6,
           7.4,
           8.2,
           6.8,
           7.8,
           7.6,
           5.2,
           7.5,
           7.1,
           6.4,
           5.7,
           5.7,
           7.4,
           5.3,
           4.4,
           7.4,
           6.5,
           6.3,
           7.1,
           6.3,
           6,
           5.3,
           6.8,
           6.8,
           6.7,
           6.5,
           6.3,
           6.1,
           6.4,
           5.9,
           6.4,
           5.9,
           6.3,
           5.4,
           5.5,
           6.1,
           6.7,
           5.6,
           5.7,
           6.2,
           6.4,
           6,
           4.6,
           4.7,
           6.5,
           4.3,
           7.6,
           5.8,
           null,
           6.4,
           6.4,
           4.1,
           5.3,
           5.6,
           6.2,
           5.5,
           8.4,
           6.1,
           5.3,
           7.6,
           5.7,
           5.8,
           7.2
          ],
          "coloraxis": "coloraxis",
          "symbol": "circle"
         },
         "mode": "markers",
         "name": "",
         "orientation": "v",
         "showlegend": false,
         "type": "scatter",
         "x": [
          99,
          100,
          36,
          124,
          102,
          144,
          95,
          75,
          128,
          76,
          28,
          98,
          107,
          92,
          85,
          92,
          120,
          101,
          92,
          19,
          82,
          30,
          56,
          97,
          104,
          37,
          25,
          96,
          142,
          108,
          99,
          42,
          101,
          121,
          39,
          108,
          93,
          74,
          102,
          92,
          96,
          110,
          10,
          82,
          90,
          94,
          30,
          47,
          15,
          60,
          129,
          97,
          92,
          148,
          88,
          104,
          98,
          83,
          86,
          92,
          108,
          104,
          136,
          110,
          89,
          100,
          106,
          85,
          87,
          82,
          100,
          97,
          86,
          124,
          37,
          79,
          106,
          95,
          89,
          95,
          76,
          117,
          94,
          102,
          86,
          101,
          94,
          92,
          9,
          104,
          80,
          99,
          21,
          89,
          114,
          100,
          106,
          104,
          92,
          151,
          74,
          98,
          104,
          88,
          97,
          106,
          112,
          111,
          7,
          91,
          89,
          102,
          101,
          108,
          114,
          155,
          102,
          80,
          51,
          97,
          81,
          83,
          94,
          100,
          70,
          94,
          49,
          106,
          78,
          90,
          107,
          118,
          120,
          55,
          98,
          103,
          147,
          97,
          80,
          107,
          89,
          121,
          73,
          98,
          118,
          89,
          40,
          58,
          123,
          96,
          95,
          117,
          24,
          97,
          89,
          94,
          100,
          89,
          107,
          86,
          106,
          123,
          105,
          39,
          112,
          102,
          136,
          104,
          100,
          32,
          92,
          97,
          100,
          101,
          105,
          103,
          101,
          97,
          94,
          117,
          144,
          21,
          96,
          125,
          70,
          90,
          89,
          97,
          94,
          119,
          112,
          81,
          78,
          85,
          114,
          64,
          39,
          90,
          117,
          93,
          125,
          104,
          85,
          94,
          137,
          80,
          104,
          84,
          104,
          113,
          103,
          107,
          98,
          89,
          96,
          79,
          105,
          14,
          134,
          94,
          90,
          120,
          12,
          87,
          115,
          101,
          107,
          116,
          71,
          95,
          96,
          113,
          126,
          94,
          119,
          98,
          70,
          16,
          78,
          90,
          90,
          101,
          97,
          90,
          90,
          81,
          63,
          109,
          97,
          87,
          92,
          39,
          100,
          119,
          92,
          112,
          40,
          103,
          94,
          94,
          19,
          105,
          40,
          28,
          64,
          92,
          95,
          91,
          86,
          133,
          100,
          91,
          106,
          149,
          120,
          94,
          31,
          112,
          106,
          132,
          136,
          95,
          111,
          79,
          90,
          54,
          98,
          85,
          98,
          104,
          111,
          106,
          96,
          97,
          97,
          101,
          126,
          91,
          85,
          81,
          72,
          96,
          98,
          132,
          91,
          103,
          95,
          83,
          23,
          72,
          47,
          139,
          121,
          106,
          100,
          95,
          85,
          90,
          96,
          99,
          100,
          103,
          34,
          121,
          114,
          95,
          101,
          89,
          114,
          97,
          73,
          106,
          83,
          89,
          108,
          26,
          126,
          86,
          118,
          46,
          44,
          91,
          124,
          113,
          124,
          149,
          118,
          31,
          85,
          123,
          100,
          89,
          86,
          48,
          64,
          84,
          70,
          64,
          58,
          58,
          57,
          27,
          99,
          105,
          142,
          98,
          94,
          106,
          72,
          45,
          52,
          116,
          144,
          135,
          41,
          117,
          98,
          113,
          131,
          49,
          139,
          73,
          58,
          89,
          97,
          114,
          87,
          95,
          80,
          118,
          114,
          107,
          105,
          99,
          99,
          83,
          87,
          86,
          97,
          105,
          15,
          79,
          95,
          4,
          92,
          101,
          97,
          136,
          100,
          108,
          83,
          111,
          153,
          102,
          108,
          60,
          96,
          112,
          107,
          105,
          96,
          41,
          80,
          87,
          102,
          111,
          97,
          125,
          90,
          85,
          114,
          124,
          89,
          98,
          114,
          79,
          85,
          102,
          132,
          99,
          93,
          118,
          100,
          121,
          28,
          112,
          104,
          115,
          17,
          96,
          102,
          99,
          93,
          105,
          83,
          138,
          112,
          108,
          129,
          102,
          108,
          121,
          151,
          97,
          120,
          114,
          105,
          101,
          131,
          95,
          83,
          209,
          23,
          112,
          99,
          140,
          105,
          131,
          92,
          98,
          90,
          149,
          98,
          107,
          115,
          98,
          83,
          87,
          95,
          30,
          87,
          101,
          97,
          112,
          118,
          53,
          99,
          102,
          92,
          121,
          103,
          124,
          94,
          83,
          122,
          120,
          94,
          94,
          89,
          90,
          88,
          95,
          101,
          97,
          132,
          104,
          130,
          119,
          13,
          108,
          103,
          94,
          40,
          109,
          23,
          130,
          125,
          116,
          40,
          125,
          90,
          100,
          90,
          98,
          121,
          105,
          80,
          91,
          134,
          99,
          109,
          102,
          95,
          107,
          98,
          116,
          83,
          85,
          95,
          125,
          98,
          116,
          108,
          103,
          101,
          92,
          96,
          112,
          86,
          112,
          95,
          99,
          122,
          86,
          100,
          17,
          102,
          84,
          93,
          32,
          82,
          97,
          97,
          93,
          83,
          88,
          103,
          91,
          93,
          92,
          117,
          86,
          111,
          11
         ],
         "xaxis": "x",
         "y": [
          5.2,
          8.2,
          7.1,
          5.8,
          6.3,
          6.8,
          4.6,
          5.9,
          6.1,
          6.8,
          6.5,
          5.4,
          5.8,
          5.8,
          5.4,
          5.3,
          5.9,
          6.8,
          6.8,
          6.8,
          7.9,
          6.3,
          5.5,
          5.7,
          6.7,
          4.6,
          4.3,
          5,
          6.7,
          6.9,
          6.3,
          6.2,
          4.2,
          5.8,
          6.8,
          6.5,
          6.5,
          6.5,
          6.8,
          6.9,
          5.9,
          7.4,
          5.2,
          7.2,
          5.8,
          6.4,
          7.1,
          7.1,
          7.7,
          6.5,
          6.3,
          6.4,
          6.7,
          5.9,
          6.4,
          7.6,
          7.2,
          5.3,
          6.6,
          6.2,
          7.5,
          5.8,
          7.7,
          7.1,
          6.8,
          5.5,
          6.2,
          8.4,
          6.3,
          6.1,
          6.9,
          6.9,
          6.7,
          6.6,
          6.4,
          7.5,
          6.7,
          6.7,
          5.6,
          5.6,
          7.7,
          6.3,
          6.6,
          6.1,
          5.1,
          6.8,
          5.9,
          5.8,
          6.5,
          6.3,
          6.1,
          5.7,
          6.5,
          8.1,
          5.8,
          6.5,
          4.8,
          5.7,
          7.1,
          6.2,
          7.5,
          5.8,
          5.1,
          5.1,
          4.8,
          6,
          6.4,
          6.3,
          6.9,
          6.7,
          6.7,
          6.6,
          6.2,
          7.7,
          8.3,
          6.5,
          5.7,
          7.1,
          8.3,
          5.3,
          2.6,
          9,
          5.5,
          4.4,
          6.8,
          6.1,
          7.1,
          5.2,
          5.4,
          7.5,
          8.2,
          7.3,
          5.4,
          6.5,
          5.2,
          5.6,
          3.5,
          5.1,
          4.9,
          5.9,
          5.7,
          7.3,
          7.1,
          5.7,
          6.6,
          8.6,
          7.1,
          2.5,
          6.5,
          7.1,
          5.8,
          6.7,
          7.3,
          5.6,
          4.5,
          5.2,
          7.3,
          4.9,
          6.3,
          7,
          7.1,
          6.1,
          4.7,
          7.4,
          5.2,
          6.4,
          7.2,
          6,
          6.4,
          5.9,
          5.4,
          7.2,
          7,
          5.4,
          5.1,
          6.5,
          7.3,
          6.3,
          5.5,
          5.2,
          4.3,
          5.5,
          6.8,
          5.7,
          5.2,
          6.7,
          5.7,
          7.1,
          7.1,
          null,
          5.3,
          5.2,
          5.8,
          6.8,
          6.2,
          4.4,
          6.8,
          6.2,
          6.7,
          6.5,
          5.6,
          6.1,
          6.1,
          4.9,
          7.5,
          6.7,
          5.9,
          6.1,
          5.5,
          5,
          5.2,
          5.8,
          6.3,
          4.6,
          6.9,
          6.6,
          7.3,
          7,
          6.6,
          5.2,
          6,
          7.9,
          7.8,
          6.7,
          6.2,
          5.4,
          7.2,
          5.3,
          7.5,
          4.7,
          6.4,
          6.4,
          6.6,
          7.7,
          6.5,
          7.5,
          7.5,
          6.4,
          7.1,
          6,
          6.3,
          6.7,
          4.5,
          7.7,
          3.4,
          7.1,
          5.5,
          7,
          8.2,
          7.1,
          7.2,
          7.2,
          6.9,
          6.4,
          5.8,
          3.7,
          6.5,
          6.1,
          5.7,
          5.7,
          6.7,
          6.8,
          7.4,
          7,
          7,
          6.2,
          6.1,
          7.1,
          5,
          7.2,
          5.5,
          5.6,
          6,
          7.6,
          6.5,
          7,
          7,
          5.4,
          6.7,
          6.9,
          7.9,
          5.8,
          5.9,
          6.8,
          4.2,
          6.7,
          6.6,
          7.4,
          6.5,
          6.5,
          6.7,
          4.8,
          7.3,
          6,
          6.4,
          6.3,
          5.5,
          7.1,
          8.1,
          6.4,
          6.3,
          5.4,
          6.4,
          6.7,
          6.5,
          4.8,
          6.5,
          6.3,
          5.9,
          6.2,
          7.3,
          6.2,
          7.3,
          5.5,
          7.3,
          7.1,
          5.7,
          5.6,
          5.8,
          7,
          6.1,
          6.9,
          5.7,
          6.9,
          5.4,
          6.4,
          6.5,
          7.2,
          6.9,
          6.7,
          3.9,
          6.7,
          null,
          6.1,
          7,
          7.4,
          7.1,
          5.7,
          6.3,
          4.6,
          6.3,
          5.7,
          7.2,
          6,
          7.6,
          7.3,
          5.8,
          7.1,
          4.6,
          6,
          5,
          6.6,
          5.5,
          7,
          7.3,
          7,
          7,
          7.3,
          7.1,
          6.6,
          6.9,
          7,
          7.5,
          5.8,
          5.5,
          null,
          5.8,
          8.1,
          7.7,
          7,
          5.8,
          6.1,
          7.6,
          7.7,
          7.1,
          7,
          6.2,
          6.3,
          5.2,
          5.6,
          4.1,
          6.8,
          4.1,
          8.2,
          4.4,
          7.3,
          5.2,
          6.9,
          4.7,
          6.1,
          6.8,
          4.5,
          6.5,
          7.2,
          4.4,
          6.6,
          7.4,
          6.3,
          7.4,
          5.8,
          7.3,
          7.3,
          5.8,
          4.7,
          6.2,
          7.2,
          7.2,
          6.6,
          5.8,
          6.3,
          6.9,
          6.2,
          8.5,
          5,
          5.5,
          5.2,
          6.4,
          5.2,
          6.4,
          8,
          6.1,
          6.4,
          4.8,
          6.4,
          5.2,
          6.7,
          5.8,
          8.4,
          7.3,
          7.6,
          6.1,
          7.2,
          5.8,
          6.6,
          6.6,
          2.6,
          6.3,
          5.8,
          7.3,
          5.2,
          4.7,
          7.4,
          7.6,
          6.8,
          6.8,
          4.1,
          7,
          6,
          6.9,
          5.8,
          5.5,
          6.6,
          4.9,
          7.3,
          5.9,
          7.1,
          7.1,
          7,
          7.2,
          6.3,
          5.7,
          7.2,
          6.3,
          7.3,
          4.4,
          7.1,
          6.9,
          6.4,
          6.9,
          5.7,
          6.5,
          7.8,
          7.4,
          7.9,
          6.1,
          7.2,
          6,
          5.8,
          5.5,
          6.2,
          5.1,
          3.7,
          5.6,
          5.6,
          4.3,
          6.3,
          5.5,
          6.3,
          6.8,
          6.9,
          6.1,
          4.8,
          6.4,
          6.9,
          5.6,
          5.9,
          4.5,
          5.3,
          6.1,
          7,
          6.4,
          6.7,
          3.2,
          7.3,
          6.8,
          6.3,
          5.5,
          5.6,
          5.8,
          6.1,
          4.6,
          5.9,
          6,
          5.4,
          5.9,
          6.2,
          6.6,
          4.8,
          7.2,
          7.2,
          5.6,
          7.6,
          7.4,
          8.2,
          6.8,
          7.8,
          7.6,
          5.2,
          7.5,
          7.1,
          6.4,
          5.7,
          5.7,
          7.4,
          5.3,
          4.4,
          7.4,
          6.5,
          6.3,
          7.1,
          6.3,
          6,
          5.3,
          6.8,
          6.8,
          6.7,
          6.5,
          6.3,
          6.1,
          6.4,
          5.9,
          6.4,
          5.9,
          6.3,
          5.4,
          5.5,
          6.1,
          6.7,
          5.6,
          5.7,
          6.2,
          6.4,
          6,
          4.6,
          4.7,
          6.5,
          4.3,
          7.6,
          5.8,
          null,
          6.4,
          6.4,
          4.1,
          5.3,
          5.6,
          6.2,
          5.5,
          8.4,
          6.1,
          5.3,
          7.6,
          5.7,
          5.8,
          7.2
         ],
         "yaxis": "y"
        }
       ],
       "layout": {
        "coloraxis": {
         "colorbar": {
          "title": {
           "text": "IMDB Score"
          }
         },
         "colorscale": [
          [
           0,
           "#0d0887"
          ],
          [
           0.1111111111111111,
           "#46039f"
          ],
          [
           0.2222222222222222,
           "#7201a8"
          ],
          [
           0.3333333333333333,
           "#9c179e"
          ],
          [
           0.4444444444444444,
           "#bd3786"
          ],
          [
           0.5555555555555556,
           "#d8576b"
          ],
          [
           0.6666666666666666,
           "#ed7953"
          ],
          [
           0.7777777777777778,
           "#fb9f3a"
          ],
          [
           0.8888888888888888,
           "#fdca26"
          ],
          [
           1,
           "#f0f921"
          ]
         ]
        },
        "legend": {
         "tracegroupgap": 0
        },
        "template": {
         "data": {
          "bar": [
           {
            "error_x": {
             "color": "#2a3f5f"
            },
            "error_y": {
             "color": "#2a3f5f"
            },
            "marker": {
             "line": {
              "color": "#E5ECF6",
              "width": 0.5
             },
             "pattern": {
              "fillmode": "overlay",
              "size": 10,
              "solidity": 0.2
             }
            },
            "type": "bar"
           }
          ],
          "barpolar": [
           {
            "marker": {
             "line": {
              "color": "#E5ECF6",
              "width": 0.5
             },
             "pattern": {
              "fillmode": "overlay",
              "size": 10,
              "solidity": 0.2
             }
            },
            "type": "barpolar"
           }
          ],
          "carpet": [
           {
            "aaxis": {
             "endlinecolor": "#2a3f5f",
             "gridcolor": "white",
             "linecolor": "white",
             "minorgridcolor": "white",
             "startlinecolor": "#2a3f5f"
            },
            "baxis": {
             "endlinecolor": "#2a3f5f",
             "gridcolor": "white",
             "linecolor": "white",
             "minorgridcolor": "white",
             "startlinecolor": "#2a3f5f"
            },
            "type": "carpet"
           }
          ],
          "choropleth": [
           {
            "colorbar": {
             "outlinewidth": 0,
             "ticks": ""
            },
            "type": "choropleth"
           }
          ],
          "contour": [
           {
            "colorbar": {
             "outlinewidth": 0,
             "ticks": ""
            },
            "colorscale": [
             [
              0,
              "#0d0887"
             ],
             [
              0.1111111111111111,
              "#46039f"
             ],
             [
              0.2222222222222222,
              "#7201a8"
             ],
             [
              0.3333333333333333,
              "#9c179e"
             ],
             [
              0.4444444444444444,
              "#bd3786"
             ],
             [
              0.5555555555555556,
              "#d8576b"
             ],
             [
              0.6666666666666666,
              "#ed7953"
             ],
             [
              0.7777777777777778,
              "#fb9f3a"
             ],
             [
              0.8888888888888888,
              "#fdca26"
             ],
             [
              1,
              "#f0f921"
             ]
            ],
            "type": "contour"
           }
          ],
          "contourcarpet": [
           {
            "colorbar": {
             "outlinewidth": 0,
             "ticks": ""
            },
            "type": "contourcarpet"
           }
          ],
          "heatmap": [
           {
            "colorbar": {
             "outlinewidth": 0,
             "ticks": ""
            },
            "colorscale": [
             [
              0,
              "#0d0887"
             ],
             [
              0.1111111111111111,
              "#46039f"
             ],
             [
              0.2222222222222222,
              "#7201a8"
             ],
             [
              0.3333333333333333,
              "#9c179e"
             ],
             [
              0.4444444444444444,
              "#bd3786"
             ],
             [
              0.5555555555555556,
              "#d8576b"
             ],
             [
              0.6666666666666666,
              "#ed7953"
             ],
             [
              0.7777777777777778,
              "#fb9f3a"
             ],
             [
              0.8888888888888888,
              "#fdca26"
             ],
             [
              1,
              "#f0f921"
             ]
            ],
            "type": "heatmap"
           }
          ],
          "heatmapgl": [
           {
            "colorbar": {
             "outlinewidth": 0,
             "ticks": ""
            },
            "colorscale": [
             [
              0,
              "#0d0887"
             ],
             [
              0.1111111111111111,
              "#46039f"
             ],
             [
              0.2222222222222222,
              "#7201a8"
             ],
             [
              0.3333333333333333,
              "#9c179e"
             ],
             [
              0.4444444444444444,
              "#bd3786"
             ],
             [
              0.5555555555555556,
              "#d8576b"
             ],
             [
              0.6666666666666666,
              "#ed7953"
             ],
             [
              0.7777777777777778,
              "#fb9f3a"
             ],
             [
              0.8888888888888888,
              "#fdca26"
             ],
             [
              1,
              "#f0f921"
             ]
            ],
            "type": "heatmapgl"
           }
          ],
          "histogram": [
           {
            "marker": {
             "pattern": {
              "fillmode": "overlay",
              "size": 10,
              "solidity": 0.2
             }
            },
            "type": "histogram"
           }
          ],
          "histogram2d": [
           {
            "colorbar": {
             "outlinewidth": 0,
             "ticks": ""
            },
            "colorscale": [
             [
              0,
              "#0d0887"
             ],
             [
              0.1111111111111111,
              "#46039f"
             ],
             [
              0.2222222222222222,
              "#7201a8"
             ],
             [
              0.3333333333333333,
              "#9c179e"
             ],
             [
              0.4444444444444444,
              "#bd3786"
             ],
             [
              0.5555555555555556,
              "#d8576b"
             ],
             [
              0.6666666666666666,
              "#ed7953"
             ],
             [
              0.7777777777777778,
              "#fb9f3a"
             ],
             [
              0.8888888888888888,
              "#fdca26"
             ],
             [
              1,
              "#f0f921"
             ]
            ],
            "type": "histogram2d"
           }
          ],
          "histogram2dcontour": [
           {
            "colorbar": {
             "outlinewidth": 0,
             "ticks": ""
            },
            "colorscale": [
             [
              0,
              "#0d0887"
             ],
             [
              0.1111111111111111,
              "#46039f"
             ],
             [
              0.2222222222222222,
              "#7201a8"
             ],
             [
              0.3333333333333333,
              "#9c179e"
             ],
             [
              0.4444444444444444,
              "#bd3786"
             ],
             [
              0.5555555555555556,
              "#d8576b"
             ],
             [
              0.6666666666666666,
              "#ed7953"
             ],
             [
              0.7777777777777778,
              "#fb9f3a"
             ],
             [
              0.8888888888888888,
              "#fdca26"
             ],
             [
              1,
              "#f0f921"
             ]
            ],
            "type": "histogram2dcontour"
           }
          ],
          "mesh3d": [
           {
            "colorbar": {
             "outlinewidth": 0,
             "ticks": ""
            },
            "type": "mesh3d"
           }
          ],
          "parcoords": [
           {
            "line": {
             "colorbar": {
              "outlinewidth": 0,
              "ticks": ""
             }
            },
            "type": "parcoords"
           }
          ],
          "pie": [
           {
            "automargin": true,
            "type": "pie"
           }
          ],
          "scatter": [
           {
            "fillpattern": {
             "fillmode": "overlay",
             "size": 10,
             "solidity": 0.2
            },
            "type": "scatter"
           }
          ],
          "scatter3d": [
           {
            "line": {
             "colorbar": {
              "outlinewidth": 0,
              "ticks": ""
             }
            },
            "marker": {
             "colorbar": {
              "outlinewidth": 0,
              "ticks": ""
             }
            },
            "type": "scatter3d"
           }
          ],
          "scattercarpet": [
           {
            "marker": {
             "colorbar": {
              "outlinewidth": 0,
              "ticks": ""
             }
            },
            "type": "scattercarpet"
           }
          ],
          "scattergeo": [
           {
            "marker": {
             "colorbar": {
              "outlinewidth": 0,
              "ticks": ""
             }
            },
            "type": "scattergeo"
           }
          ],
          "scattergl": [
           {
            "marker": {
             "colorbar": {
              "outlinewidth": 0,
              "ticks": ""
             }
            },
            "type": "scattergl"
           }
          ],
          "scattermapbox": [
           {
            "marker": {
             "colorbar": {
              "outlinewidth": 0,
              "ticks": ""
             }
            },
            "type": "scattermapbox"
           }
          ],
          "scatterpolar": [
           {
            "marker": {
             "colorbar": {
              "outlinewidth": 0,
              "ticks": ""
             }
            },
            "type": "scatterpolar"
           }
          ],
          "scatterpolargl": [
           {
            "marker": {
             "colorbar": {
              "outlinewidth": 0,
              "ticks": ""
             }
            },
            "type": "scatterpolargl"
           }
          ],
          "scatterternary": [
           {
            "marker": {
             "colorbar": {
              "outlinewidth": 0,
              "ticks": ""
             }
            },
            "type": "scatterternary"
           }
          ],
          "surface": [
           {
            "colorbar": {
             "outlinewidth": 0,
             "ticks": ""
            },
            "colorscale": [
             [
              0,
              "#0d0887"
             ],
             [
              0.1111111111111111,
              "#46039f"
             ],
             [
              0.2222222222222222,
              "#7201a8"
             ],
             [
              0.3333333333333333,
              "#9c179e"
             ],
             [
              0.4444444444444444,
              "#bd3786"
             ],
             [
              0.5555555555555556,
              "#d8576b"
             ],
             [
              0.6666666666666666,
              "#ed7953"
             ],
             [
              0.7777777777777778,
              "#fb9f3a"
             ],
             [
              0.8888888888888888,
              "#fdca26"
             ],
             [
              1,
              "#f0f921"
             ]
            ],
            "type": "surface"
           }
          ],
          "table": [
           {
            "cells": {
             "fill": {
              "color": "#EBF0F8"
             },
             "line": {
              "color": "white"
             }
            },
            "header": {
             "fill": {
              "color": "#C8D4E3"
             },
             "line": {
              "color": "white"
             }
            },
            "type": "table"
           }
          ]
         },
         "layout": {
          "annotationdefaults": {
           "arrowcolor": "#2a3f5f",
           "arrowhead": 0,
           "arrowwidth": 1
          },
          "autotypenumbers": "strict",
          "coloraxis": {
           "colorbar": {
            "outlinewidth": 0,
            "ticks": ""
           }
          },
          "colorscale": {
           "diverging": [
            [
             0,
             "#8e0152"
            ],
            [
             0.1,
             "#c51b7d"
            ],
            [
             0.2,
             "#de77ae"
            ],
            [
             0.3,
             "#f1b6da"
            ],
            [
             0.4,
             "#fde0ef"
            ],
            [
             0.5,
             "#f7f7f7"
            ],
            [
             0.6,
             "#e6f5d0"
            ],
            [
             0.7,
             "#b8e186"
            ],
            [
             0.8,
             "#7fbc41"
            ],
            [
             0.9,
             "#4d9221"
            ],
            [
             1,
             "#276419"
            ]
           ],
           "sequential": [
            [
             0,
             "#0d0887"
            ],
            [
             0.1111111111111111,
             "#46039f"
            ],
            [
             0.2222222222222222,
             "#7201a8"
            ],
            [
             0.3333333333333333,
             "#9c179e"
            ],
            [
             0.4444444444444444,
             "#bd3786"
            ],
            [
             0.5555555555555556,
             "#d8576b"
            ],
            [
             0.6666666666666666,
             "#ed7953"
            ],
            [
             0.7777777777777778,
             "#fb9f3a"
            ],
            [
             0.8888888888888888,
             "#fdca26"
            ],
            [
             1,
             "#f0f921"
            ]
           ],
           "sequentialminus": [
            [
             0,
             "#0d0887"
            ],
            [
             0.1111111111111111,
             "#46039f"
            ],
            [
             0.2222222222222222,
             "#7201a8"
            ],
            [
             0.3333333333333333,
             "#9c179e"
            ],
            [
             0.4444444444444444,
             "#bd3786"
            ],
            [
             0.5555555555555556,
             "#d8576b"
            ],
            [
             0.6666666666666666,
             "#ed7953"
            ],
            [
             0.7777777777777778,
             "#fb9f3a"
            ],
            [
             0.8888888888888888,
             "#fdca26"
            ],
            [
             1,
             "#f0f921"
            ]
           ]
          },
          "colorway": [
           "#636efa",
           "#EF553B",
           "#00cc96",
           "#ab63fa",
           "#FFA15A",
           "#19d3f3",
           "#FF6692",
           "#B6E880",
           "#FF97FF",
           "#FECB52"
          ],
          "font": {
           "color": "#2a3f5f"
          },
          "geo": {
           "bgcolor": "white",
           "lakecolor": "white",
           "landcolor": "#E5ECF6",
           "showlakes": true,
           "showland": true,
           "subunitcolor": "white"
          },
          "hoverlabel": {
           "align": "left"
          },
          "hovermode": "closest",
          "mapbox": {
           "style": "light"
          },
          "paper_bgcolor": "white",
          "plot_bgcolor": "#E5ECF6",
          "polar": {
           "angularaxis": {
            "gridcolor": "white",
            "linecolor": "white",
            "ticks": ""
           },
           "bgcolor": "#E5ECF6",
           "radialaxis": {
            "gridcolor": "white",
            "linecolor": "white",
            "ticks": ""
           }
          },
          "scene": {
           "xaxis": {
            "backgroundcolor": "#E5ECF6",
            "gridcolor": "white",
            "gridwidth": 2,
            "linecolor": "white",
            "showbackground": true,
            "ticks": "",
            "zerolinecolor": "white"
           },
           "yaxis": {
            "backgroundcolor": "#E5ECF6",
            "gridcolor": "white",
            "gridwidth": 2,
            "linecolor": "white",
            "showbackground": true,
            "ticks": "",
            "zerolinecolor": "white"
           },
           "zaxis": {
            "backgroundcolor": "#E5ECF6",
            "gridcolor": "white",
            "gridwidth": 2,
            "linecolor": "white",
            "showbackground": true,
            "ticks": "",
            "zerolinecolor": "white"
           }
          },
          "shapedefaults": {
           "line": {
            "color": "#2a3f5f"
           }
          },
          "ternary": {
           "aaxis": {
            "gridcolor": "white",
            "linecolor": "white",
            "ticks": ""
           },
           "baxis": {
            "gridcolor": "white",
            "linecolor": "white",
            "ticks": ""
           },
           "bgcolor": "#E5ECF6",
           "caxis": {
            "gridcolor": "white",
            "linecolor": "white",
            "ticks": ""
           }
          },
          "title": {
           "x": 0.05
          },
          "xaxis": {
           "automargin": true,
           "gridcolor": "white",
           "linecolor": "white",
           "ticks": "",
           "title": {
            "standoff": 15
           },
           "zerolinecolor": "white",
           "zerolinewidth": 2
          },
          "yaxis": {
           "automargin": true,
           "gridcolor": "white",
           "linecolor": "white",
           "ticks": "",
           "title": {
            "standoff": 15
           },
           "zerolinecolor": "white",
           "zerolinewidth": 2
          }
         }
        },
        "title": {
         "text": "Hubungan antara IMDB Score dan Runtime"
        },
        "xaxis": {
         "anchor": "y",
         "domain": [
          0,
          1
         ],
         "title": {
          "text": "Runtime"
         }
        },
        "yaxis": {
         "anchor": "x",
         "domain": [
          0,
          1
         ],
         "title": {
          "text": "IMDB Score"
         }
        }
       }
      }
     },
     "metadata": {},
     "output_type": "display_data"
    }
   ],
   "source": [
    "fig = px.scatter(df, x=\"Runtime\", y=\"IMDB Score\", color=\"IMDB Score\", hover_name=\"Title\",\n",
    "                 title='Hubungan antara IMDB Score dan Runtime')\n",
    "fig.show()"
   ]
  },
  {
   "cell_type": "code",
   "execution_count": null,
   "metadata": {},
   "outputs": [
    {
     "data": {
      "application/vnd.plotly.v1+json": {
       "config": {
        "plotlyServerURL": "https://plot.ly"
       },
       "data": [
        {
         "marker": {
          "color": [
           "#e50914"
          ]
         },
         "text": [
          183,
          125,
          99,
          71,
          66,
          30,
          9,
          1
         ],
         "textposition": "outside",
         "type": "bar",
         "x": [
          2020,
          2019,
          2018,
          2021,
          2017,
          2016,
          2015,
          2014
         ],
         "y": [
          183,
          125,
          99,
          71,
          66,
          30,
          9,
          1
         ]
        }
       ],
       "layout": {
        "height": 700,
        "template": {
         "data": {
          "bar": [
           {
            "error_x": {
             "color": "#2a3f5f"
            },
            "error_y": {
             "color": "#2a3f5f"
            },
            "marker": {
             "line": {
              "color": "#E5ECF6",
              "width": 0.5
             },
             "pattern": {
              "fillmode": "overlay",
              "size": 10,
              "solidity": 0.2
             }
            },
            "type": "bar"
           }
          ],
          "barpolar": [
           {
            "marker": {
             "line": {
              "color": "#E5ECF6",
              "width": 0.5
             },
             "pattern": {
              "fillmode": "overlay",
              "size": 10,
              "solidity": 0.2
             }
            },
            "type": "barpolar"
           }
          ],
          "carpet": [
           {
            "aaxis": {
             "endlinecolor": "#2a3f5f",
             "gridcolor": "white",
             "linecolor": "white",
             "minorgridcolor": "white",
             "startlinecolor": "#2a3f5f"
            },
            "baxis": {
             "endlinecolor": "#2a3f5f",
             "gridcolor": "white",
             "linecolor": "white",
             "minorgridcolor": "white",
             "startlinecolor": "#2a3f5f"
            },
            "type": "carpet"
           }
          ],
          "choropleth": [
           {
            "colorbar": {
             "outlinewidth": 0,
             "ticks": ""
            },
            "type": "choropleth"
           }
          ],
          "contour": [
           {
            "colorbar": {
             "outlinewidth": 0,
             "ticks": ""
            },
            "colorscale": [
             [
              0,
              "#0d0887"
             ],
             [
              0.1111111111111111,
              "#46039f"
             ],
             [
              0.2222222222222222,
              "#7201a8"
             ],
             [
              0.3333333333333333,
              "#9c179e"
             ],
             [
              0.4444444444444444,
              "#bd3786"
             ],
             [
              0.5555555555555556,
              "#d8576b"
             ],
             [
              0.6666666666666666,
              "#ed7953"
             ],
             [
              0.7777777777777778,
              "#fb9f3a"
             ],
             [
              0.8888888888888888,
              "#fdca26"
             ],
             [
              1,
              "#f0f921"
             ]
            ],
            "type": "contour"
           }
          ],
          "contourcarpet": [
           {
            "colorbar": {
             "outlinewidth": 0,
             "ticks": ""
            },
            "type": "contourcarpet"
           }
          ],
          "heatmap": [
           {
            "colorbar": {
             "outlinewidth": 0,
             "ticks": ""
            },
            "colorscale": [
             [
              0,
              "#0d0887"
             ],
             [
              0.1111111111111111,
              "#46039f"
             ],
             [
              0.2222222222222222,
              "#7201a8"
             ],
             [
              0.3333333333333333,
              "#9c179e"
             ],
             [
              0.4444444444444444,
              "#bd3786"
             ],
             [
              0.5555555555555556,
              "#d8576b"
             ],
             [
              0.6666666666666666,
              "#ed7953"
             ],
             [
              0.7777777777777778,
              "#fb9f3a"
             ],
             [
              0.8888888888888888,
              "#fdca26"
             ],
             [
              1,
              "#f0f921"
             ]
            ],
            "type": "heatmap"
           }
          ],
          "heatmapgl": [
           {
            "colorbar": {
             "outlinewidth": 0,
             "ticks": ""
            },
            "colorscale": [
             [
              0,
              "#0d0887"
             ],
             [
              0.1111111111111111,
              "#46039f"
             ],
             [
              0.2222222222222222,
              "#7201a8"
             ],
             [
              0.3333333333333333,
              "#9c179e"
             ],
             [
              0.4444444444444444,
              "#bd3786"
             ],
             [
              0.5555555555555556,
              "#d8576b"
             ],
             [
              0.6666666666666666,
              "#ed7953"
             ],
             [
              0.7777777777777778,
              "#fb9f3a"
             ],
             [
              0.8888888888888888,
              "#fdca26"
             ],
             [
              1,
              "#f0f921"
             ]
            ],
            "type": "heatmapgl"
           }
          ],
          "histogram": [
           {
            "marker": {
             "pattern": {
              "fillmode": "overlay",
              "size": 10,
              "solidity": 0.2
             }
            },
            "type": "histogram"
           }
          ],
          "histogram2d": [
           {
            "colorbar": {
             "outlinewidth": 0,
             "ticks": ""
            },
            "colorscale": [
             [
              0,
              "#0d0887"
             ],
             [
              0.1111111111111111,
              "#46039f"
             ],
             [
              0.2222222222222222,
              "#7201a8"
             ],
             [
              0.3333333333333333,
              "#9c179e"
             ],
             [
              0.4444444444444444,
              "#bd3786"
             ],
             [
              0.5555555555555556,
              "#d8576b"
             ],
             [
              0.6666666666666666,
              "#ed7953"
             ],
             [
              0.7777777777777778,
              "#fb9f3a"
             ],
             [
              0.8888888888888888,
              "#fdca26"
             ],
             [
              1,
              "#f0f921"
             ]
            ],
            "type": "histogram2d"
           }
          ],
          "histogram2dcontour": [
           {
            "colorbar": {
             "outlinewidth": 0,
             "ticks": ""
            },
            "colorscale": [
             [
              0,
              "#0d0887"
             ],
             [
              0.1111111111111111,
              "#46039f"
             ],
             [
              0.2222222222222222,
              "#7201a8"
             ],
             [
              0.3333333333333333,
              "#9c179e"
             ],
             [
              0.4444444444444444,
              "#bd3786"
             ],
             [
              0.5555555555555556,
              "#d8576b"
             ],
             [
              0.6666666666666666,
              "#ed7953"
             ],
             [
              0.7777777777777778,
              "#fb9f3a"
             ],
             [
              0.8888888888888888,
              "#fdca26"
             ],
             [
              1,
              "#f0f921"
             ]
            ],
            "type": "histogram2dcontour"
           }
          ],
          "mesh3d": [
           {
            "colorbar": {
             "outlinewidth": 0,
             "ticks": ""
            },
            "type": "mesh3d"
           }
          ],
          "parcoords": [
           {
            "line": {
             "colorbar": {
              "outlinewidth": 0,
              "ticks": ""
             }
            },
            "type": "parcoords"
           }
          ],
          "pie": [
           {
            "automargin": true,
            "type": "pie"
           }
          ],
          "scatter": [
           {
            "fillpattern": {
             "fillmode": "overlay",
             "size": 10,
             "solidity": 0.2
            },
            "type": "scatter"
           }
          ],
          "scatter3d": [
           {
            "line": {
             "colorbar": {
              "outlinewidth": 0,
              "ticks": ""
             }
            },
            "marker": {
             "colorbar": {
              "outlinewidth": 0,
              "ticks": ""
             }
            },
            "type": "scatter3d"
           }
          ],
          "scattercarpet": [
           {
            "marker": {
             "colorbar": {
              "outlinewidth": 0,
              "ticks": ""
             }
            },
            "type": "scattercarpet"
           }
          ],
          "scattergeo": [
           {
            "marker": {
             "colorbar": {
              "outlinewidth": 0,
              "ticks": ""
             }
            },
            "type": "scattergeo"
           }
          ],
          "scattergl": [
           {
            "marker": {
             "colorbar": {
              "outlinewidth": 0,
              "ticks": ""
             }
            },
            "type": "scattergl"
           }
          ],
          "scattermapbox": [
           {
            "marker": {
             "colorbar": {
              "outlinewidth": 0,
              "ticks": ""
             }
            },
            "type": "scattermapbox"
           }
          ],
          "scatterpolar": [
           {
            "marker": {
             "colorbar": {
              "outlinewidth": 0,
              "ticks": ""
             }
            },
            "type": "scatterpolar"
           }
          ],
          "scatterpolargl": [
           {
            "marker": {
             "colorbar": {
              "outlinewidth": 0,
              "ticks": ""
             }
            },
            "type": "scatterpolargl"
           }
          ],
          "scatterternary": [
           {
            "marker": {
             "colorbar": {
              "outlinewidth": 0,
              "ticks": ""
             }
            },
            "type": "scatterternary"
           }
          ],
          "surface": [
           {
            "colorbar": {
             "outlinewidth": 0,
             "ticks": ""
            },
            "colorscale": [
             [
              0,
              "#0d0887"
             ],
             [
              0.1111111111111111,
              "#46039f"
             ],
             [
              0.2222222222222222,
              "#7201a8"
             ],
             [
              0.3333333333333333,
              "#9c179e"
             ],
             [
              0.4444444444444444,
              "#bd3786"
             ],
             [
              0.5555555555555556,
              "#d8576b"
             ],
             [
              0.6666666666666666,
              "#ed7953"
             ],
             [
              0.7777777777777778,
              "#fb9f3a"
             ],
             [
              0.8888888888888888,
              "#fdca26"
             ],
             [
              1,
              "#f0f921"
             ]
            ],
            "type": "surface"
           }
          ],
          "table": [
           {
            "cells": {
             "fill": {
              "color": "#EBF0F8"
             },
             "line": {
              "color": "white"
             }
            },
            "header": {
             "fill": {
              "color": "#C8D4E3"
             },
             "line": {
              "color": "white"
             }
            },
            "type": "table"
           }
          ]
         },
         "layout": {
          "annotationdefaults": {
           "arrowcolor": "#2a3f5f",
           "arrowhead": 0,
           "arrowwidth": 1
          },
          "autotypenumbers": "strict",
          "coloraxis": {
           "colorbar": {
            "outlinewidth": 0,
            "ticks": ""
           }
          },
          "colorscale": {
           "diverging": [
            [
             0,
             "#8e0152"
            ],
            [
             0.1,
             "#c51b7d"
            ],
            [
             0.2,
             "#de77ae"
            ],
            [
             0.3,
             "#f1b6da"
            ],
            [
             0.4,
             "#fde0ef"
            ],
            [
             0.5,
             "#f7f7f7"
            ],
            [
             0.6,
             "#e6f5d0"
            ],
            [
             0.7,
             "#b8e186"
            ],
            [
             0.8,
             "#7fbc41"
            ],
            [
             0.9,
             "#4d9221"
            ],
            [
             1,
             "#276419"
            ]
           ],
           "sequential": [
            [
             0,
             "#0d0887"
            ],
            [
             0.1111111111111111,
             "#46039f"
            ],
            [
             0.2222222222222222,
             "#7201a8"
            ],
            [
             0.3333333333333333,
             "#9c179e"
            ],
            [
             0.4444444444444444,
             "#bd3786"
            ],
            [
             0.5555555555555556,
             "#d8576b"
            ],
            [
             0.6666666666666666,
             "#ed7953"
            ],
            [
             0.7777777777777778,
             "#fb9f3a"
            ],
            [
             0.8888888888888888,
             "#fdca26"
            ],
            [
             1,
             "#f0f921"
            ]
           ],
           "sequentialminus": [
            [
             0,
             "#0d0887"
            ],
            [
             0.1111111111111111,
             "#46039f"
            ],
            [
             0.2222222222222222,
             "#7201a8"
            ],
            [
             0.3333333333333333,
             "#9c179e"
            ],
            [
             0.4444444444444444,
             "#bd3786"
            ],
            [
             0.5555555555555556,
             "#d8576b"
            ],
            [
             0.6666666666666666,
             "#ed7953"
            ],
            [
             0.7777777777777778,
             "#fb9f3a"
            ],
            [
             0.8888888888888888,
             "#fdca26"
            ],
            [
             1,
             "#f0f921"
            ]
           ]
          },
          "colorway": [
           "#636efa",
           "#EF553B",
           "#00cc96",
           "#ab63fa",
           "#FFA15A",
           "#19d3f3",
           "#FF6692",
           "#B6E880",
           "#FF97FF",
           "#FECB52"
          ],
          "font": {
           "color": "#2a3f5f"
          },
          "geo": {
           "bgcolor": "white",
           "lakecolor": "white",
           "landcolor": "#E5ECF6",
           "showlakes": true,
           "showland": true,
           "subunitcolor": "white"
          },
          "hoverlabel": {
           "align": "left"
          },
          "hovermode": "closest",
          "mapbox": {
           "style": "light"
          },
          "paper_bgcolor": "white",
          "plot_bgcolor": "#E5ECF6",
          "polar": {
           "angularaxis": {
            "gridcolor": "white",
            "linecolor": "white",
            "ticks": ""
           },
           "bgcolor": "#E5ECF6",
           "radialaxis": {
            "gridcolor": "white",
            "linecolor": "white",
            "ticks": ""
           }
          },
          "scene": {
           "xaxis": {
            "backgroundcolor": "#E5ECF6",
            "gridcolor": "white",
            "gridwidth": 2,
            "linecolor": "white",
            "showbackground": true,
            "ticks": "",
            "zerolinecolor": "white"
           },
           "yaxis": {
            "backgroundcolor": "#E5ECF6",
            "gridcolor": "white",
            "gridwidth": 2,
            "linecolor": "white",
            "showbackground": true,
            "ticks": "",
            "zerolinecolor": "white"
           },
           "zaxis": {
            "backgroundcolor": "#E5ECF6",
            "gridcolor": "white",
            "gridwidth": 2,
            "linecolor": "white",
            "showbackground": true,
            "ticks": "",
            "zerolinecolor": "white"
           }
          },
          "shapedefaults": {
           "line": {
            "color": "#2a3f5f"
           }
          },
          "ternary": {
           "aaxis": {
            "gridcolor": "white",
            "linecolor": "white",
            "ticks": ""
           },
           "baxis": {
            "gridcolor": "white",
            "linecolor": "white",
            "ticks": ""
           },
           "bgcolor": "#E5ECF6",
           "caxis": {
            "gridcolor": "white",
            "linecolor": "white",
            "ticks": ""
           }
          },
          "title": {
           "x": 0.05
          },
          "xaxis": {
           "automargin": true,
           "gridcolor": "white",
           "linecolor": "white",
           "ticks": "",
           "title": {
            "standoff": 15
           },
           "zerolinecolor": "white",
           "zerolinewidth": 2
          },
          "yaxis": {
           "automargin": true,
           "gridcolor": "white",
           "linecolor": "white",
           "ticks": "",
           "title": {
            "standoff": 15
           },
           "zerolinecolor": "white",
           "zerolinewidth": 2
          }
         }
        },
        "title": {
         "text": "Jumlah Film Netflix Original setiap Tahunnya"
        },
        "uniformtext": {
         "minsize": 7,
         "mode": "hide"
        },
        "xaxis": {
         "title": {
          "font": {
           "size": 12
          },
          "text": "Duration"
         }
        },
        "yaxis": {
         "title": {
          "font": {
           "size": 14
          },
          "text": "Quantity"
         }
        }
       }
      }
     },
     "metadata": {},
     "output_type": "display_data"
    }
   ],
   "source": [
    "count_runtime = df_runtime['Year'].value_counts()\n",
    "\n",
    "fig = go.Figure(data=[go.Bar(\n",
    "    x = count_runtime.index,\n",
    "    y = count_runtime,\n",
    "    text = count_runtime,\n",
    "    textposition= 'auto',\n",
    "    marker_color = ['#e50914']\n",
    ")])\n",
    "fig.update_traces(textposition='outside')\n",
    "fig.update_layout(title_text= 'Jumlah Film Netflix Original setiap Tahunnya',\n",
    "                  uniformtext_minsize=7, uniformtext_mode='hide',\n",
    "                  height=700,\n",
    "                  yaxis=dict(\n",
    "                  title='Quantity',\n",
    "                  titlefont_size=14),\n",
    "                  xaxis=dict(\n",
    "                  title='Duration',\n",
    "                  titlefont_size=12))"
   ]
  },
  {
   "attachments": {},
   "cell_type": "markdown",
   "metadata": {},
   "source": [
    "Dari total 584 film Netflix Original, jumlah tertinggi tercatat pada tahun 2020 dengan 183 film. Pada tahun tersebut, Netflix secara aktif merilis banyak konten Original baru yang meliputi film-film mereka. Ini menunjukkan komitmen Netflix dalam memproduksi konten orisinal yang beragam dan berkualitas tinggi.\n",
    "\n",
    "Namun, pada tahun 2021, jumlah film Netflix Original menurun drastis menjadi 71 film. Penurunan ini bisa disebabkan oleh berbagai faktor seperti penyesuaian strategi produksi dan fokus pada seri TV atau dokumenter daripada film. Perubahan tren dan preferensi pemirsa juga dapat mempengaruhi jumlah film yang dirilis pada tahun tersebut"
   ]
  },
  {
   "attachments": {},
   "cell_type": "markdown",
   "metadata": {},
   "source": [
    "**Menentukan batas kelompok berdasarkan durasi runtime**"
   ]
  },
  {
   "cell_type": "code",
   "execution_count": 32,
   "metadata": {},
   "outputs": [
    {
     "data": {
      "text/html": [
       "<div>\n",
       "<style scoped>\n",
       "    .dataframe tbody tr th:only-of-type {\n",
       "        vertical-align: middle;\n",
       "    }\n",
       "\n",
       "    .dataframe tbody tr th {\n",
       "        vertical-align: top;\n",
       "    }\n",
       "\n",
       "    .dataframe thead th {\n",
       "        text-align: right;\n",
       "    }\n",
       "</style>\n",
       "<table border=\"1\" class=\"dataframe\">\n",
       "  <thead>\n",
       "    <tr style=\"text-align: right;\">\n",
       "      <th></th>\n",
       "      <th>Title</th>\n",
       "      <th>Genre</th>\n",
       "      <th>Premiere</th>\n",
       "      <th>Runtime</th>\n",
       "      <th>IMDB Score</th>\n",
       "      <th>Language</th>\n",
       "      <th>Year</th>\n",
       "      <th>Film</th>\n",
       "    </tr>\n",
       "  </thead>\n",
       "  <tbody>\n",
       "    <tr>\n",
       "      <th>0</th>\n",
       "      <td>#REALITYHIGH</td>\n",
       "      <td>Comedy</td>\n",
       "      <td>2017-09-08</td>\n",
       "      <td>99</td>\n",
       "      <td>5.2</td>\n",
       "      <td>English</td>\n",
       "      <td>2017</td>\n",
       "      <td>Feature Film</td>\n",
       "    </tr>\n",
       "    <tr>\n",
       "      <th>1</th>\n",
       "      <td>13th</td>\n",
       "      <td>Documentary</td>\n",
       "      <td>2016-10-07</td>\n",
       "      <td>100</td>\n",
       "      <td>8.2</td>\n",
       "      <td>English</td>\n",
       "      <td>2016</td>\n",
       "      <td>Feature Film</td>\n",
       "    </tr>\n",
       "    <tr>\n",
       "      <th>2</th>\n",
       "      <td>13th: A Conversation with Oprah Winfrey &amp; Ava ...</td>\n",
       "      <td>Aftershow / Interview</td>\n",
       "      <td>2017-01-26</td>\n",
       "      <td>36</td>\n",
       "      <td>7.1</td>\n",
       "      <td>English</td>\n",
       "      <td>2017</td>\n",
       "      <td>Short Film</td>\n",
       "    </tr>\n",
       "    <tr>\n",
       "      <th>3</th>\n",
       "      <td>15 August</td>\n",
       "      <td>Comedy-drama</td>\n",
       "      <td>2019-03-29</td>\n",
       "      <td>124</td>\n",
       "      <td>5.8</td>\n",
       "      <td>Marathi</td>\n",
       "      <td>2019</td>\n",
       "      <td>Feature Film</td>\n",
       "    </tr>\n",
       "    <tr>\n",
       "      <th>4</th>\n",
       "      <td>1922</td>\n",
       "      <td>Horror/Crime drama</td>\n",
       "      <td>2017-10-20</td>\n",
       "      <td>102</td>\n",
       "      <td>6.3</td>\n",
       "      <td>English</td>\n",
       "      <td>2017</td>\n",
       "      <td>Feature Film</td>\n",
       "    </tr>\n",
       "  </tbody>\n",
       "</table>\n",
       "</div>"
      ],
      "text/plain": [
       "                                               Title                  Genre  \\\n",
       "0                                       #REALITYHIGH                 Comedy   \n",
       "1                                               13th            Documentary   \n",
       "2  13th: A Conversation with Oprah Winfrey & Ava ...  Aftershow / Interview   \n",
       "3                                          15 August           Comedy-drama   \n",
       "4                                               1922     Horror/Crime drama   \n",
       "\n",
       "     Premiere  Runtime  IMDB Score Language  Year          Film  \n",
       "0  2017-09-08       99         5.2  English  2017  Feature Film  \n",
       "1  2016-10-07      100         8.2  English  2016  Feature Film  \n",
       "2  2017-01-26       36         7.1  English  2017    Short Film  \n",
       "3  2019-03-29      124         5.8  Marathi  2019  Feature Film  \n",
       "4  2017-10-20      102         6.3  English  2017  Feature Film  "
      ]
     },
     "execution_count": 32,
     "metadata": {},
     "output_type": "execute_result"
    }
   ],
   "source": [
    "limit = [0, 40, float('inf')]\n",
    "labels = ['Short Film', 'Feature Film']\n",
    "\n",
    "# Menambahkan kolom 'Feature' berdasarkan durasi runtime\n",
    "df['Film'] = pd.cut(df['Runtime'], bins= limit, labels=labels)\n",
    "\n",
    "df.head()"
   ]
  },
  {
   "attachments": {},
   "cell_type": "markdown",
   "metadata": {},
   "source": [
    "Pembagain film ini mengacu pada Academy of Motion Picture Arts and Sciences yang mendefinisikan film pendek sebagai \"sebuah film orisinal yang berdurasi 40 menit atau kurang, termasuk semua kredit\""
   ]
  },
  {
   "attachments": {},
   "cell_type": "markdown",
   "metadata": {},
   "source": [
    "**Jumlah Film berdasarkan pembagian antara Short film dan Feature film**"
   ]
  },
  {
   "cell_type": "code",
   "execution_count": null,
   "metadata": {},
   "outputs": [
    {
     "data": {
      "text/plain": [
       "Feature Film    537\n",
       "Short Film       47\n",
       "Name: Film, dtype: int64"
      ]
     },
     "execution_count": 136,
     "metadata": {},
     "output_type": "execute_result"
    }
   ],
   "source": [
    "df['Film'].value_counts()"
   ]
  },
  {
   "attachments": {},
   "cell_type": "markdown",
   "metadata": {},
   "source": [
    "Dari hasil Pembagian diatas, yang termasuk kedalam kategori Short Film sebanyak 47 data dan yang termasuk ke dalam kategori Feature Film sebanyak 537 data.\n",
    "\n",
    "dibawah ini berikut untuk Visualisasi datanya."
   ]
  },
  {
   "cell_type": "code",
   "execution_count": null,
   "metadata": {},
   "outputs": [],
   "source": [
    "# df.to_csv('Netflix Clean2.csv')"
   ]
  },
  {
   "cell_type": "code",
   "execution_count": 50,
   "metadata": {},
   "outputs": [
    {
     "data": {
      "image/png": "[encoded data removed]",
      "text/plain": [
       "<Figure size 800x800 with 1 Axes>"
      ]
     },
     "metadata": {},
     "output_type": "display_data"
    }
   ],
   "source": [
    "plt.figure(figsize = (8,8))\n",
    "income = sns.countplot(x = df['Film'], palette = ['#221f1f', '#e50914'])\n",
    "income.set_title('Runtime Distribution')\n",
    "\n",
    "xmin, xmax = plt.xlim()\n",
    "ymin, ymax = plt.ylim()\n",
    "\n",
    "plt.text(s=\"Total antara Short Film dan Feature Film\", \n",
    "        ha='left', x=xmin, y=ymax*1.15, \n",
    "        fontsize=18, fontweight='bold', \n",
    "        color='black')\n",
    "plt.text(s=\"Feature Film memiliki Total yang lebih banyak dibandingkan Short Film\", \n",
    "        ha='left', x=xmin, y=ymax*1.11, \n",
    "        fontsize=12, fontweight='normal', \n",
    "        color='black')\n",
    "\n",
    "plt.show()"
   ]
  },
  {
   "cell_type": "code",
   "execution_count": null,
   "metadata": {},
   "outputs": [
    {
     "data": {
      "text/html": [
       "<div>\n",
       "<style scoped>\n",
       "    .dataframe tbody tr th:only-of-type {\n",
       "        vertical-align: middle;\n",
       "    }\n",
       "\n",
       "    .dataframe tbody tr th {\n",
       "        vertical-align: top;\n",
       "    }\n",
       "\n",
       "    .dataframe thead th {\n",
       "        text-align: right;\n",
       "    }\n",
       "</style>\n",
       "<table border=\"1\" class=\"dataframe\">\n",
       "  <thead>\n",
       "    <tr style=\"text-align: right;\">\n",
       "      <th></th>\n",
       "      <th>Title</th>\n",
       "      <th>Genre</th>\n",
       "      <th>Premiere</th>\n",
       "      <th>Runtime</th>\n",
       "      <th>IMDB Score</th>\n",
       "      <th>Language</th>\n",
       "      <th>Year</th>\n",
       "      <th>Feature</th>\n",
       "      <th>Film</th>\n",
       "    </tr>\n",
       "  </thead>\n",
       "  <tbody>\n",
       "    <tr>\n",
       "      <th>0</th>\n",
       "      <td>#REALITYHIGH</td>\n",
       "      <td>Comedy</td>\n",
       "      <td>2017-09-08</td>\n",
       "      <td>99</td>\n",
       "      <td>5.2</td>\n",
       "      <td>English</td>\n",
       "      <td>2017</td>\n",
       "      <td>Feature Film</td>\n",
       "      <td>Feature Film</td>\n",
       "    </tr>\n",
       "    <tr>\n",
       "      <th>1</th>\n",
       "      <td>13th</td>\n",
       "      <td>Documentary</td>\n",
       "      <td>2016-10-07</td>\n",
       "      <td>100</td>\n",
       "      <td>8.2</td>\n",
       "      <td>English</td>\n",
       "      <td>2016</td>\n",
       "      <td>Feature Film</td>\n",
       "      <td>Feature Film</td>\n",
       "    </tr>\n",
       "    <tr>\n",
       "      <th>2</th>\n",
       "      <td>13th: A Conversation with Oprah Winfrey &amp; Ava ...</td>\n",
       "      <td>Aftershow / Interview</td>\n",
       "      <td>2017-01-26</td>\n",
       "      <td>36</td>\n",
       "      <td>7.1</td>\n",
       "      <td>English</td>\n",
       "      <td>2017</td>\n",
       "      <td>Short Film</td>\n",
       "      <td>Short Film</td>\n",
       "    </tr>\n",
       "    <tr>\n",
       "      <th>3</th>\n",
       "      <td>15 August</td>\n",
       "      <td>Comedy-drama</td>\n",
       "      <td>2019-03-29</td>\n",
       "      <td>124</td>\n",
       "      <td>5.8</td>\n",
       "      <td>Marathi</td>\n",
       "      <td>2019</td>\n",
       "      <td>Feature Film</td>\n",
       "      <td>Feature Film</td>\n",
       "    </tr>\n",
       "    <tr>\n",
       "      <th>4</th>\n",
       "      <td>1922</td>\n",
       "      <td>Horror/Crime drama</td>\n",
       "      <td>2017-10-20</td>\n",
       "      <td>102</td>\n",
       "      <td>6.3</td>\n",
       "      <td>English</td>\n",
       "      <td>2017</td>\n",
       "      <td>Feature Film</td>\n",
       "      <td>Feature Film</td>\n",
       "    </tr>\n",
       "  </tbody>\n",
       "</table>\n",
       "</div>"
      ],
      "text/plain": [
       "                                               Title                  Genre  \\\n",
       "0                                       #REALITYHIGH                 Comedy   \n",
       "1                                               13th            Documentary   \n",
       "2  13th: A Conversation with Oprah Winfrey & Ava ...  Aftershow / Interview   \n",
       "3                                          15 August           Comedy-drama   \n",
       "4                                               1922     Horror/Crime drama   \n",
       "\n",
       "     Premiere  Runtime  IMDB Score Language  Year       Feature          Film  \n",
       "0  2017-09-08       99         5.2  English  2017  Feature Film  Feature Film  \n",
       "1  2016-10-07      100         8.2  English  2016  Feature Film  Feature Film  \n",
       "2  2017-01-26       36         7.1  English  2017    Short Film    Short Film  \n",
       "3  2019-03-29      124         5.8  Marathi  2019  Feature Film  Feature Film  \n",
       "4  2017-10-20      102         6.3  English  2017  Feature Film  Feature Film  "
      ]
     },
     "execution_count": 138,
     "metadata": {},
     "output_type": "execute_result"
    }
   ],
   "source": [
    "df_runtime = df.dropna(subset=['Film'])\n",
    "df_runtime.head()"
   ]
  },
  {
   "attachments": {},
   "cell_type": "markdown",
   "metadata": {},
   "source": [
    "**Distribusi Jumlah Film pertahunnya berdasakan Feature**"
   ]
  },
  {
   "cell_type": "code",
   "execution_count": null,
   "metadata": {},
   "outputs": [
    {
     "data": {
      "image/png": "[encoded data removed]",
      "text/plain": [
       "<Figure size 1600x800 with 1 Axes>"
      ]
     },
     "metadata": {},
     "output_type": "display_data"
    }
   ],
   "source": [
    "plt.figure(figsize = (20,10))\n",
    "age_income_distribution = sns.countplot(x = df['Year'], hue = df['Film'], palette = ['#221f1f', '#e50914'])\n",
    "age_income_distribution.set_xticklabels(age_income_distribution.get_xticklabels(), \n",
    "                                        horizontalalignment='right')\n",
    "age_income_distribution.set_title('Film Distribution')\n",
    "plt.legend(title = 'Feature Film', loc='upper right')\n",
    "xmin, xmax = plt.xlim()\n",
    "ymin, ymax = plt.ylim()\n",
    "\n",
    "plt.text(s=\"Perbandingan antara Short Film dan Feature Film berdasarkan Total Film per tahun\", \n",
    "        ha='left', x=xmin, y=ymax*1.15, \n",
    "        fontsize=18, fontweight='bold', \n",
    "        color='black')\n",
    "plt.text(s=\"Dengan Total Film yang mengalami kenaikan pertahunnya, total Short Film sangat sedikit Totalnya meskipun mengalami kenaikan sampai tahun 2019 kemudian menurun kembali pada tahun berikutnya\", \n",
    "        ha='left', x=xmin, y=ymax*1.12, \n",
    "        fontsize=10, fontweight='normal', \n",
    "        color='black')\n",
    "plt.show()"
   ]
  },
  {
   "cell_type": "code",
   "execution_count": 53,
   "metadata": {},
   "outputs": [
    {
     "name": "stdout",
     "output_type": "stream",
     "text": [
      "              IMDB Score\n",
      "Film                    \n",
      "Short Film      6.682609\n",
      "Feature Film    6.242509\n"
     ]
    }
   ],
   "source": [
    "# The Average of IMDB Score between Short Film and Length Film\n",
    "\n",
    "\n",
    "df.groupby(\"Film\").agg({\"IMDB Score\": \"mean\"}).sort_values(by=\"IMDB Score\", ascending=False)[0:10]\n",
    "genrescore_on = df.groupby(\"Film\").agg({\"IMDB Score\": \"mean\"}).sort_values(by=\"IMDB Score\", ascending=False)[\n",
    "                0:10].reset_index()\n",
    "\n",
    "print (df.groupby(\"Film\").agg({\"IMDB Score\": \"mean\"}).sort_values(by=\"IMDB Score\", ascending=False)[0:10])"
   ]
  },
  {
   "cell_type": "code",
   "execution_count": 60,
   "metadata": {},
   "outputs": [
    {
     "data": {
      "image/png": "[encoded data removed]",
      "text/plain": [
       "<Figure size 640x480 with 1 Axes>"
      ]
     },
     "metadata": {},
     "output_type": "display_data"
    }
   ],
   "source": [
    "sns.barplot(y=genrescore_on[\"Film\"], x=genrescore_on[\"IMDB Score\"], palette=['#221f1f', '#e50914'])\n",
    "\n",
    "xmin, xmax = plt.xlim()\n",
    "ymin, ymax = plt.ylim()\n",
    "\n",
    "plt.text(s=\"Perbandingan Short Film dan Feature Film\", \n",
    "        ha='left', x=xmin, y=ymax*1.45, \n",
    "        fontsize=18, fontweight='bold', \n",
    "        color='black')\n",
    "plt.text(s=\" berdasarkan Rata-rata IMDB Score\", \n",
    "        ha='left', x=xmin, y=ymax*1.15, \n",
    "        fontsize=18, fontweight='bold', \n",
    "        color='black')\n",
    "\n",
    "plt.show()"
   ]
  },
  {
   "attachments": {},
   "cell_type": "markdown",
   "metadata": {},
   "source": [
    "Dari grapik diatas bisa dilihat bahwa nilai rata-rata IMDB Short Film lebih besar daripada Feature Film. sedangkan pada grapik sebelumnya telah diketahui bahwa jumlah data yang tergolong kategori Short Feature masih sangat sedikit dibandingkan dengan jumlah Feature Film."
   ]
  },
  {
   "attachments": {},
   "cell_type": "markdown",
   "metadata": {},
   "source": [
    "<img src=\"image/Sheet 4.png\" alt=\"deskripsi gambar\" width=\"1200\">"
   ]
  },
  {
   "attachments": {},
   "cell_type": "markdown",
   "metadata": {},
   "source": [
    "Dilihat dari nilai rata-rata IMDB score pertahunnya, film yang masuk kategori Short Film mempunyai rata-rata IMDB Score yang lebih besar dibandingkan dengan nilai rata-rata IMDB Score dengan kategori Feature Film"
   ]
  },
  {
   "attachments": {},
   "cell_type": "markdown",
   "metadata": {},
   "source": [
    "## Kesimpulan dan Rekomendasi "
   ]
  },
  {
   "attachments": {},
   "cell_type": "markdown",
   "metadata": {},
   "source": [
    "**Kesimpulan**\n",
    "\n",
    "Dari analisis yang telah dilakukan, bisa diambil keputusan terkait film apa yang mau ditingkatkan produksinya:\n",
    "Terdapat 584 data pada dataset Netflix Original, dimana terdapat Missing Value sebanyak 4 pada kolom IMDB Score.\n",
    "* Pada 4 data yang dinyatakan Missing Value yang bisa dikatakan hanya 0.7% dari data keseluruhan. Maka diambil keputusan untuk mengisi kolom tersebut dengan cara Manual menggunakan Microsoft Excel, alih-alih melakukan Drop table yang memungkinkan berkurangnya data yang tergolong minim.\n",
    "* Dari 584 data yang ada, terdapat 47 data yang bisa di kategorikan sebagai short film dan 537 data sebagai Feature film.\n",
    "* Film dengan kategori Short Film mendapatkan nilai rata-rata IMDB Score yaitu 6.68, sedangkan Feature Film mendapatkan nilai rata-rata IMDB Score yaitu 6.24\n",
    "* Nilai rata-rata IMDB score untuk Short Film masih tinggi dibandingkan dengan nilai rata-rata nilai IMDB Score untuk Feature Film.\n",
    "* Meskiput Jumlah Short Film masih tergolong sangat sedikit namun memiliki nilai rata-rata IMDB Score yang tinggi dibandingkat Feature Film"
   ]
  },
  {
   "attachments": {},
   "cell_type": "markdown",
   "metadata": {},
   "source": [
    "**Rekomendasi**\n",
    "\n",
    "Netflix dapat meningkatkan jumlah short film karena produksi mereka lebih efisien dan biayanya lebih terjangkau dibandingkan dengan film fitur. Dengan mengalokasikan lebih banyak sumber daya untuk mengembangkan short film, Netflix dapat meningkatkan variasi konten dan menarik penonton yang lebih luas.\n",
    "\n",
    "Dengan mengimplementasikan rekomendasi ini, Netflix dapat meningkatkan jumlah short film Netflix Original yang diproduksi. Hal ini akan memberikan variasi dan pilihan yang lebih luas bagi penonton, "
   ]
  },
  {
   "attachments": {},
   "cell_type": "markdown",
   "metadata": {},
   "source": [
    "<h1>\"It’s always about quality over quantity.\" 🥇 </h1>"
   ]
  },
  {
   "attachments": {},
   "cell_type": "markdown",
   "metadata": {},
   "source": [
    "## Referensi\n",
    "\n",
    "- https://noamkroll.com/how-long-does-a-movie-need-to-be-to-qualify-as-feature-film-length-it-may-be-less-than-you-think/\n",
    "- https://www.howandwhat.net/5c-analysis-netflix-5cs-netflix/"
   ]
  }
 ],
 "metadata": {
  "kernelspec": {
   "display_name": "Python 3",
   "language": "python",
   "name": "python3"
  },
  "language_info": {
   "codemirror_mode": {
    "name": "ipython",
    "version": 3
   },
   "file_extension": ".py",
   "mimetype": "text/x-python",
   "name": "python",
   "nbconvert_exporter": "python",
   "pygments_lexer": "ipython3",
   "version": "3.10.7"
  },
  "orig_nbformat": 4
 },
 "nbformat": 4,
 "nbformat_minor": 2
}
